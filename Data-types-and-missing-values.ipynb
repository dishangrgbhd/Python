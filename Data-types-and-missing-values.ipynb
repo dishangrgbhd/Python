{
 "cells": [
  {
   "cell_type": "markdown",
   "id": "29416489",
   "metadata": {
    "papermill": {
     "duration": 0.004453,
     "end_time": "2024-05-05T14:40:40.708932",
     "exception": false,
     "start_time": "2024-05-05T14:40:40.704479",
     "status": "completed"
    },
    "tags": []
   },
   "source": [
    "**This notebook is an exercise in the [Pandas](https://www.kaggle.com/learn/pandas) course.  You can reference the tutorial at [this link](https://www.kaggle.com/residentmario/data-types-and-missing-values).**\n",
    "\n",
    "---\n"
   ]
  },
  {
   "cell_type": "markdown",
   "id": "e0b046cb",
   "metadata": {
    "papermill": {
     "duration": 0.003644,
     "end_time": "2024-05-05T14:40:40.716876",
     "exception": false,
     "start_time": "2024-05-05T14:40:40.713232",
     "status": "completed"
    },
    "tags": []
   },
   "source": [
    "# Introduction\n",
    "\n",
    "Run the following cell to load your data and some utility functions."
   ]
  },
  {
   "cell_type": "code",
   "execution_count": 1,
   "id": "538cdfbd",
   "metadata": {
    "execution": {
     "iopub.execute_input": "2024-05-05T14:40:40.727886Z",
     "iopub.status.busy": "2024-05-05T14:40:40.727486Z",
     "iopub.status.idle": "2024-05-05T14:40:45.453641Z",
     "shell.execute_reply": "2024-05-05T14:40:45.451424Z"
    },
    "papermill": {
     "duration": 4.736196,
     "end_time": "2024-05-05T14:40:45.457554",
     "exception": false,
     "start_time": "2024-05-05T14:40:40.721358",
     "status": "completed"
    },
    "tags": []
   },
   "outputs": [
    {
     "name": "stdout",
     "output_type": "stream",
     "text": [
      "Setup complete.\n"
     ]
    }
   ],
   "source": [
    "import pandas as pd\n",
    "\n",
    "reviews = pd.read_csv(\"../input/wine-reviews/winemag-data-130k-v2.csv\", index_col=0)\n",
    "\n",
    "from learntools.core import binder; binder.bind(globals())\n",
    "from learntools.pandas.data_types_and_missing_data import *\n",
    "print(\"Setup complete.\")"
   ]
  },
  {
   "cell_type": "markdown",
   "id": "df753c88",
   "metadata": {
    "papermill": {
     "duration": 0.004578,
     "end_time": "2024-05-05T14:40:45.466886",
     "exception": false,
     "start_time": "2024-05-05T14:40:45.462308",
     "status": "completed"
    },
    "tags": []
   },
   "source": [
    "# Exercises"
   ]
  },
  {
   "cell_type": "markdown",
   "id": "6840147a",
   "metadata": {
    "papermill": {
     "duration": 0.004434,
     "end_time": "2024-05-05T14:40:45.475811",
     "exception": false,
     "start_time": "2024-05-05T14:40:45.471377",
     "status": "completed"
    },
    "tags": []
   },
   "source": [
    "## 1. \n",
    "What is the data type of the `points` column in the dataset?"
   ]
  },
  {
   "cell_type": "code",
   "execution_count": 2,
   "id": "5ed78e21",
   "metadata": {
    "execution": {
     "iopub.execute_input": "2024-05-05T14:40:45.485841Z",
     "iopub.status.busy": "2024-05-05T14:40:45.485446Z",
     "iopub.status.idle": "2024-05-05T14:40:45.496412Z",
     "shell.execute_reply": "2024-05-05T14:40:45.495255Z"
    },
    "papermill": {
     "duration": 0.018582,
     "end_time": "2024-05-05T14:40:45.498496",
     "exception": false,
     "start_time": "2024-05-05T14:40:45.479914",
     "status": "completed"
    },
    "tags": []
   },
   "outputs": [
    {
     "data": {
      "application/javascript": [
       "parent.postMessage({\"jupyterEvent\": \"custom.exercise_interaction\", \"data\": {\"outcomeType\": 1, \"valueTowardsCompletion\": 0.25, \"interactionType\": 1, \"questionType\": 1, \"questionId\": \"1_PointsDtype\", \"learnToolsVersion\": \"0.3.4\", \"failureMessage\": \"\", \"exceptionClass\": \"\", \"trace\": \"\"}}, \"*\")"
      ],
      "text/plain": [
       "<IPython.core.display.Javascript object>"
      ]
     },
     "metadata": {},
     "output_type": "display_data"
    },
    {
     "data": {
      "text/markdown": [
       "<span style=\"color:#33cc33\">Correct</span>"
      ],
      "text/plain": [
       "Correct"
      ]
     },
     "metadata": {},
     "output_type": "display_data"
    }
   ],
   "source": [
    "# Your code here\n",
    "dtype = reviews.points.dtype\n",
    "\n",
    "# Check your answer\n",
    "q1.check()"
   ]
  },
  {
   "cell_type": "markdown",
   "id": "502b918e",
   "metadata": {
    "papermill": {
     "duration": 0.004082,
     "end_time": "2024-05-05T14:40:45.507168",
     "exception": false,
     "start_time": "2024-05-05T14:40:45.503086",
     "status": "completed"
    },
    "tags": []
   },
   "source": [
    "## 2. \n",
    "Create a Series from entries in the `points` column, but convert the entries to strings. Hint: strings are `str` in native Python."
   ]
  },
  {
   "cell_type": "code",
   "execution_count": 3,
   "id": "c541a991",
   "metadata": {
    "execution": {
     "iopub.execute_input": "2024-05-05T14:40:45.518214Z",
     "iopub.status.busy": "2024-05-05T14:40:45.517137Z",
     "iopub.status.idle": "2024-05-05T14:40:45.564511Z",
     "shell.execute_reply": "2024-05-05T14:40:45.563508Z"
    },
    "papermill": {
     "duration": 0.055264,
     "end_time": "2024-05-05T14:40:45.566677",
     "exception": false,
     "start_time": "2024-05-05T14:40:45.511413",
     "status": "completed"
    },
    "tags": []
   },
   "outputs": [
    {
     "data": {
      "application/javascript": [
       "parent.postMessage({\"jupyterEvent\": \"custom.exercise_interaction\", \"data\": {\"outcomeType\": 1, \"valueTowardsCompletion\": 0.25, \"interactionType\": 1, \"questionType\": 1, \"questionId\": \"2_StrPoints\", \"learnToolsVersion\": \"0.3.4\", \"failureMessage\": \"\", \"exceptionClass\": \"\", \"trace\": \"\"}}, \"*\")"
      ],
      "text/plain": [
       "<IPython.core.display.Javascript object>"
      ]
     },
     "metadata": {},
     "output_type": "display_data"
    },
    {
     "data": {
      "text/markdown": [
       "<span style=\"color:#33cc33\">Correct</span>"
      ],
      "text/plain": [
       "Correct"
      ]
     },
     "metadata": {},
     "output_type": "display_data"
    }
   ],
   "source": [
    "point_strings = reviews.points.astype('str')\n",
    "\n",
    "# Check your answer\n",
    "q2.check()"
   ]
  },
  {
   "cell_type": "markdown",
   "id": "45c8a1db",
   "metadata": {
    "papermill": {
     "duration": 0.00419,
     "end_time": "2024-05-05T14:40:45.575390",
     "exception": false,
     "start_time": "2024-05-05T14:40:45.571200",
     "status": "completed"
    },
    "tags": []
   },
   "source": [
    "## 3.\n",
    "Sometimes the price column is null. How many reviews in the dataset are missing a price?"
   ]
  },
  {
   "cell_type": "code",
   "execution_count": 4,
   "id": "9261cf15",
   "metadata": {
    "execution": {
     "iopub.execute_input": "2024-05-05T14:40:45.586981Z",
     "iopub.status.busy": "2024-05-05T14:40:45.585905Z",
     "iopub.status.idle": "2024-05-05T14:40:45.597677Z",
     "shell.execute_reply": "2024-05-05T14:40:45.596623Z"
    },
    "papermill": {
     "duration": 0.020048,
     "end_time": "2024-05-05T14:40:45.599907",
     "exception": false,
     "start_time": "2024-05-05T14:40:45.579859",
     "status": "completed"
    },
    "tags": []
   },
   "outputs": [
    {
     "name": "stdout",
     "output_type": "stream",
     "text": [
      "8996\n"
     ]
    },
    {
     "data": {
      "application/javascript": [
       "parent.postMessage({\"jupyterEvent\": \"custom.exercise_interaction\", \"data\": {\"outcomeType\": 1, \"valueTowardsCompletion\": 0.25, \"interactionType\": 1, \"questionType\": 1, \"questionId\": \"3_CountMissingPrices\", \"learnToolsVersion\": \"0.3.4\", \"failureMessage\": \"\", \"exceptionClass\": \"\", \"trace\": \"\"}}, \"*\")"
      ],
      "text/plain": [
       "<IPython.core.display.Javascript object>"
      ]
     },
     "metadata": {},
     "output_type": "display_data"
    },
    {
     "data": {
      "text/markdown": [
       "<span style=\"color:#33cc33\">Correct</span>"
      ],
      "text/plain": [
       "Correct"
      ]
     },
     "metadata": {},
     "output_type": "display_data"
    }
   ],
   "source": [
    "n_missing_prices = reviews.price.isnull().sum()\n",
    "print(n_missing_prices)\n",
    "# Check your answer\n",
    "q3.check()"
   ]
  },
  {
   "cell_type": "markdown",
   "id": "c6fc9d78",
   "metadata": {
    "papermill": {
     "duration": 0.00488,
     "end_time": "2024-05-05T14:40:45.609622",
     "exception": false,
     "start_time": "2024-05-05T14:40:45.604742",
     "status": "completed"
    },
    "tags": []
   },
   "source": [
    "## 4.\n",
    "What are the most common wine-producing regions? Create a Series counting the number of times each value occurs in the `region_1` field. This field is often missing data, so replace missing values with `Unknown`. Sort in descending order.  Your output should look something like this:\n",
    "\n",
    "```\n",
    "Unknown                    21247\n",
    "Napa Valley                 4480\n",
    "                           ...  \n",
    "Bardolino Superiore            1\n",
    "Primitivo del Tarantino        1\n",
    "Name: region_1, Length: 1230, dtype: int64\n",
    "```"
   ]
  },
  {
   "cell_type": "code",
   "execution_count": 5,
   "id": "f182aed4",
   "metadata": {
    "execution": {
     "iopub.execute_input": "2024-05-05T14:40:45.621350Z",
     "iopub.status.busy": "2024-05-05T14:40:45.620972Z",
     "iopub.status.idle": "2024-05-05T14:40:45.677965Z",
     "shell.execute_reply": "2024-05-05T14:40:45.676836Z"
    },
    "papermill": {
     "duration": 0.065696,
     "end_time": "2024-05-05T14:40:45.680080",
     "exception": false,
     "start_time": "2024-05-05T14:40:45.614384",
     "status": "completed"
    },
    "tags": []
   },
   "outputs": [
    {
     "name": "stdout",
     "output_type": "stream",
     "text": [
      "region_1\n",
      "Unknown                    21247\n",
      "Napa Valley                 4480\n",
      "Columbia Valley (WA)        4124\n",
      "Russian River Valley        3091\n",
      "California                  2629\n",
      "                           ...  \n",
      "Lamezia                        1\n",
      "Trentino Superiore             1\n",
      "Grave del Friuli               1\n",
      "Vin Santo di Carmignano        1\n",
      "Paestum                        1\n",
      "Name: count, Length: 1230, dtype: int64\n"
     ]
    },
    {
     "data": {
      "application/javascript": [
       "parent.postMessage({\"jupyterEvent\": \"custom.exercise_interaction\", \"data\": {\"outcomeType\": 1, \"valueTowardsCompletion\": 0.25, \"interactionType\": 1, \"questionType\": 2, \"questionId\": \"4_ReviewsPerRegion\", \"learnToolsVersion\": \"0.3.4\", \"failureMessage\": \"\", \"exceptionClass\": \"\", \"trace\": \"\"}}, \"*\")"
      ],
      "text/plain": [
       "<IPython.core.display.Javascript object>"
      ]
     },
     "metadata": {},
     "output_type": "display_data"
    },
    {
     "data": {
      "text/markdown": [
       "<span style=\"color:#33cc33\">Correct</span>"
      ],
      "text/plain": [
       "Correct"
      ]
     },
     "metadata": {},
     "output_type": "display_data"
    }
   ],
   "source": [
    "region=reviews.region_1.fillna(\"Unknown\")\n",
    "reviews_per_region = region.value_counts()\n",
    "print(reviews_per_region)\n",
    "# Check your answer\n",
    "q4.check()"
   ]
  },
  {
   "cell_type": "markdown",
   "id": "5b8edafc",
   "metadata": {
    "papermill": {
     "duration": 0.004832,
     "end_time": "2024-05-05T14:40:45.690057",
     "exception": false,
     "start_time": "2024-05-05T14:40:45.685225",
     "status": "completed"
    },
    "tags": []
   },
   "source": [
    "# Keep going\n",
    "\n",
    "Move on to **[renaming and combining](https://www.kaggle.com/residentmario/renaming-and-combining)**."
   ]
  },
  {
   "cell_type": "markdown",
   "id": "7b30893f",
   "metadata": {
    "papermill": {
     "duration": 0.006304,
     "end_time": "2024-05-05T14:40:45.701732",
     "exception": false,
     "start_time": "2024-05-05T14:40:45.695428",
     "status": "completed"
    },
    "tags": []
   },
   "source": [
    "---\n",
    "\n",
    "\n",
    "\n",
    "\n",
    "*Have questions or comments? Visit the [course discussion forum](https://www.kaggle.com/learn/pandas/discussion) to chat with other learners.*"
   ]
  }
 ],
 "metadata": {
  "kaggle": {
   "accelerator": "none",
   "dataSources": [
    {
     "datasetId": 655,
     "sourceId": 1252,
     "sourceType": "datasetVersion"
    },
    {
     "datasetId": 2321,
     "sourceId": 3919,
     "sourceType": "datasetVersion"
    },
    {
     "datasetId": 2894,
     "sourceId": 4877,
     "sourceType": "datasetVersion"
    },
    {
     "datasetId": 3491,
     "sourceId": 5624,
     "sourceType": "datasetVersion"
    },
    {
     "datasetId": 1442,
     "sourceId": 8172,
     "sourceType": "datasetVersion"
    },
    {
     "datasetId": 9366,
     "sourceId": 13206,
     "sourceType": "datasetVersion"
    },
    {
     "datasetId": 179555,
     "sourceId": 403916,
     "sourceType": "datasetVersion"
    },
    {
     "datasetId": 4549,
     "sourceId": 466349,
     "sourceType": "datasetVersion"
    },
    {
     "datasetId": 2478,
     "sourceId": 1151655,
     "sourceType": "datasetVersion"
    },
    {
     "datasetId": 10128,
     "sourceId": 5438389,
     "sourceType": "datasetVersion"
    }
   ],
   "isGpuEnabled": false,
   "isInternetEnabled": false,
   "language": "python",
   "sourceType": "notebook"
  },
  "kernelspec": {
   "display_name": "Python 3",
   "language": "python",
   "name": "python3"
  },
  "language_info": {
   "codemirror_mode": {
    "name": "ipython",
    "version": 3
   },
   "file_extension": ".py",
   "mimetype": "text/x-python",
   "name": "python",
   "nbconvert_exporter": "python",
   "pygments_lexer": "ipython3",
   "version": "3.10.13"
  },
  "papermill": {
   "default_parameters": {},
   "duration": 8.941182,
   "end_time": "2024-05-05T14:40:46.430632",
   "environment_variables": {},
   "exception": null,
   "input_path": "__notebook__.ipynb",
   "output_path": "__notebook__.ipynb",
   "parameters": {},
   "start_time": "2024-05-05T14:40:37.489450",
   "version": "2.5.0"
  }
 },
 "nbformat": 4,
 "nbformat_minor": 5
}
