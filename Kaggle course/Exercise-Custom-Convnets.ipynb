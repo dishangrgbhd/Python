{
 "cells": [
  {
   "cell_type": "markdown",
   "id": "7c15c578",
   "metadata": {
    "papermill": {
     "duration": 0.006005,
     "end_time": "2024-06-06T06:12:47.449777",
     "exception": false,
     "start_time": "2024-06-06T06:12:47.443772",
     "status": "completed"
    },
    "tags": []
   },
   "source": [
    "**This notebook is an exercise in the [Computer Vision](https://www.kaggle.com/learn/computer-vision) course.  You can reference the tutorial at [this link](https://www.kaggle.com/ryanholbrook/custom-convnets).**\n",
    "\n",
    "---\n"
   ]
  },
  {
   "cell_type": "markdown",
   "id": "e530e43e",
   "metadata": {
    "papermill": {
     "duration": 0.00506,
     "end_time": "2024-06-06T06:12:47.460571",
     "exception": false,
     "start_time": "2024-06-06T06:12:47.455511",
     "status": "completed"
    },
    "tags": []
   },
   "source": [
    "# Introduction #\n",
    "\n",
    "In these exercises, you'll build a custom convnet with performance competitive to the VGG16 model from Lesson 1.\n",
    "\n",
    "Get started by running the code cell below."
   ]
  },
  {
   "cell_type": "code",
   "execution_count": 1,
   "id": "6d38090d",
   "metadata": {
    "execution": {
     "iopub.execute_input": "2024-06-06T06:12:47.473720Z",
     "iopub.status.busy": "2024-06-06T06:12:47.472700Z",
     "iopub.status.idle": "2024-06-06T06:13:11.933635Z",
     "shell.execute_reply": "2024-06-06T06:13:11.932462Z"
    },
    "papermill": {
     "duration": 24.470227,
     "end_time": "2024-06-06T06:13:11.936211",
     "exception": false,
     "start_time": "2024-06-06T06:12:47.465984",
     "status": "completed"
    },
    "tags": []
   },
   "outputs": [
    {
     "name": "stderr",
     "output_type": "stream",
     "text": [
      "2024-06-06 06:12:50.035952: E external/local_xla/xla/stream_executor/cuda/cuda_dnn.cc:9261] Unable to register cuDNN factory: Attempting to register factory for plugin cuDNN when one has already been registered\n",
      "2024-06-06 06:12:50.036056: E external/local_xla/xla/stream_executor/cuda/cuda_fft.cc:607] Unable to register cuFFT factory: Attempting to register factory for plugin cuFFT when one has already been registered\n",
      "2024-06-06 06:12:50.166115: E external/local_xla/xla/stream_executor/cuda/cuda_blas.cc:1515] Unable to register cuBLAS factory: Attempting to register factory for plugin cuBLAS when one has already been registered\n"
     ]
    },
    {
     "name": "stdout",
     "output_type": "stream",
     "text": [
      "Found 5117 files belonging to 2 classes.\n",
      "Found 5051 files belonging to 2 classes.\n"
     ]
    }
   ],
   "source": [
    "# Setup feedback system\n",
    "from learntools.core import binder\n",
    "binder.bind(globals())\n",
    "from learntools.computer_vision.ex5 import *\n",
    "\n",
    "# Imports\n",
    "import os, warnings\n",
    "import matplotlib.pyplot as plt\n",
    "from matplotlib import gridspec\n",
    "\n",
    "import numpy as np\n",
    "import tensorflow as tf\n",
    "from tensorflow.keras.preprocessing import image_dataset_from_directory\n",
    "\n",
    "# Reproducability\n",
    "def set_seed(seed=31415):\n",
    "    np.random.seed(seed)\n",
    "    tf.random.set_seed(seed)\n",
    "    os.environ['PYTHONHASHSEED'] = str(seed)\n",
    "    os.environ['TF_DETERMINISTIC_OPS'] = '1'\n",
    "set_seed()\n",
    "\n",
    "# Set Matplotlib defaults\n",
    "plt.rc('figure', autolayout=True)\n",
    "plt.rc('axes', labelweight='bold', labelsize='large',\n",
    "       titleweight='bold', titlesize=18, titlepad=10)\n",
    "plt.rc('image', cmap='magma')\n",
    "warnings.filterwarnings(\"ignore\") # to clean up output cells\n",
    "\n",
    "\n",
    "# Load training and validation sets\n",
    "ds_train_ = image_dataset_from_directory(\n",
    "    '../input/car-or-truck/train',\n",
    "    labels='inferred',\n",
    "    label_mode='binary',\n",
    "    image_size=[128, 128],\n",
    "    interpolation='nearest',\n",
    "    batch_size=64,\n",
    "    shuffle=True,\n",
    ")\n",
    "ds_valid_ = image_dataset_from_directory(\n",
    "    '../input/car-or-truck/valid',\n",
    "    labels='inferred',\n",
    "    label_mode='binary',\n",
    "    image_size=[128, 128],\n",
    "    interpolation='nearest',\n",
    "    batch_size=64,\n",
    "    shuffle=False,\n",
    ")\n",
    "\n",
    "# Data Pipeline\n",
    "def convert_to_float(image, label):\n",
    "    image = tf.image.convert_image_dtype(image, dtype=tf.float32)\n",
    "    return image, label\n",
    "\n",
    "AUTOTUNE = tf.data.experimental.AUTOTUNE\n",
    "ds_train = (\n",
    "    ds_train_\n",
    "    .map(convert_to_float)\n",
    "    .cache()\n",
    "    .prefetch(buffer_size=AUTOTUNE)\n",
    ")\n",
    "ds_valid = (\n",
    "    ds_valid_\n",
    "    .map(convert_to_float)\n",
    "    .cache()\n",
    "    .prefetch(buffer_size=AUTOTUNE)\n",
    ")\n"
   ]
  },
  {
   "cell_type": "markdown",
   "id": "bfcf9feb",
   "metadata": {
    "papermill": {
     "duration": 0.00543,
     "end_time": "2024-06-06T06:13:11.947630",
     "exception": false,
     "start_time": "2024-06-06T06:13:11.942200",
     "status": "completed"
    },
    "tags": []
   },
   "source": [
    "# Design a Convnet #\n",
    "\n",
    "Let's design a convolutional network with a block architecture like we saw in the tutorial. The model from the example had three blocks, each with a single convolutional layer. Its performance on the \"Car or Truck\" problem was okay, but far from what the pretrained VGG16 could achieve. It might be that our simple network lacks the ability to extract sufficiently complex features. We could try improving the model either by adding more blocks or by adding convolutions to the blocks we have.\n",
    "\n",
    "Let's go with the second approach. We'll keep the three block structure, but increase the number of `Conv2D` layer in the third block.\n",
    "\n",
    "<figure>\n",
    "<!-- <img src=\"./images/2-convmodel-2.png\" width=\"250\" alt=\"Diagram of a convolutional model.\"> -->\n",
    "<img src=\"https://storage.googleapis.com/kaggle-media/learn/images/Vko6nCK.png\" width=\"250\" alt=\"Diagram of a convolutional model.\">\n",
    "</figure>\n",
    "\n",
    "# 1) Define Model #\n",
    "\n",
    "Given the diagram above, complete the model by defining the layers of the third block."
   ]
  },
  {
   "cell_type": "code",
   "execution_count": 2,
   "id": "14328425",
   "metadata": {
    "execution": {
     "iopub.execute_input": "2024-06-06T06:13:11.960613Z",
     "iopub.status.busy": "2024-06-06T06:13:11.960210Z",
     "iopub.status.idle": "2024-06-06T06:13:12.148331Z",
     "shell.execute_reply": "2024-06-06T06:13:12.147412Z"
    },
    "lines_to_next_cell": 0,
    "papermill": {
     "duration": 0.197349,
     "end_time": "2024-06-06T06:13:12.150497",
     "exception": false,
     "start_time": "2024-06-06T06:13:11.953148",
     "status": "completed"
    },
    "tags": []
   },
   "outputs": [
    {
     "data": {
      "application/javascript": [
       "parent.postMessage({\"jupyterEvent\": \"custom.exercise_interaction\", \"data\": {\"outcomeType\": 1, \"valueTowardsCompletion\": 0.3333333333333333, \"interactionType\": 1, \"questionType\": 2, \"questionId\": \"1_Q1\", \"learnToolsVersion\": \"0.3.4\", \"failureMessage\": \"\", \"exceptionClass\": \"\", \"trace\": \"\"}}, \"*\")"
      ],
      "text/plain": [
       "<IPython.core.display.Javascript object>"
      ]
     },
     "metadata": {},
     "output_type": "display_data"
    },
    {
     "data": {
      "text/markdown": [
       "<span style=\"color:#33cc33\">Correct</span>"
      ],
      "text/plain": [
       "Correct"
      ]
     },
     "metadata": {},
     "output_type": "display_data"
    }
   ],
   "source": [
    "from tensorflow import keras\n",
    "from tensorflow.keras import layers\n",
    "\n",
    "model = keras.Sequential([\n",
    "    # Block One\n",
    "    layers.Conv2D(filters=32, kernel_size=3, activation='relu', padding='same',\n",
    "                  input_shape=[128, 128, 3]),\n",
    "    layers.MaxPool2D(),\n",
    "\n",
    "    # Block Two\n",
    "    layers.Conv2D(filters=64, kernel_size=3, activation='relu', padding='same'),\n",
    "    layers.MaxPool2D(),\n",
    "\n",
    "    # Block Three\n",
    "    layers.Conv2D(filters=128,kernel_size=3,activation='relu',padding='same'),\n",
    "    layers.Conv2D(filters=128,kernel_size=3,activation='relu',padding='same'),\n",
    "    layers.MaxPool2D(),\n",
    "\n",
    "    # Head\n",
    "    layers.Flatten(),\n",
    "    layers.Dense(6, activation='relu'),\n",
    "    layers.Dropout(0.2),\n",
    "    layers.Dense(1, activation='sigmoid'),\n",
    "])\n",
    "\n",
    "# Check your answer\n",
    "q_1.check()"
   ]
  },
  {
   "cell_type": "code",
   "execution_count": 3,
   "id": "7433f487",
   "metadata": {
    "execution": {
     "iopub.execute_input": "2024-06-06T06:13:12.164105Z",
     "iopub.status.busy": "2024-06-06T06:13:12.163737Z",
     "iopub.status.idle": "2024-06-06T06:13:12.175352Z",
     "shell.execute_reply": "2024-06-06T06:13:12.174431Z"
    },
    "papermill": {
     "duration": 0.020854,
     "end_time": "2024-06-06T06:13:12.177652",
     "exception": false,
     "start_time": "2024-06-06T06:13:12.156798",
     "status": "completed"
    },
    "tags": []
   },
   "outputs": [
    {
     "data": {
      "application/javascript": [
       "parent.postMessage({\"jupyterEvent\": \"custom.exercise_interaction\", \"data\": {\"interactionType\": 2, \"questionType\": 2, \"questionId\": \"1_Q1\", \"learnToolsVersion\": \"0.3.4\", \"valueTowardsCompletion\": 0.0, \"failureMessage\": \"\", \"exceptionClass\": \"\", \"trace\": \"\", \"outcomeType\": 4}}, \"*\")"
      ],
      "text/plain": [
       "<IPython.core.display.Javascript object>"
      ]
     },
     "metadata": {},
     "output_type": "display_data"
    },
    {
     "data": {
      "text/markdown": [
       "<span style=\"color:#3366cc\">Hint:</span> You should add two `Conv2D` layers and then a `MaxPool2D` layer. They will be just the same as the other layers in the model, except for some of the parameter values."
      ],
      "text/plain": [
       "Hint: You should add two `Conv2D` layers and then a `MaxPool2D` layer. They will be just the same as the other layers in the model, except for some of the parameter values."
      ]
     },
     "metadata": {},
     "output_type": "display_data"
    },
    {
     "data": {
      "application/javascript": [
       "parent.postMessage({\"jupyterEvent\": \"custom.exercise_interaction\", \"data\": {\"interactionType\": 3, \"questionType\": 2, \"questionId\": \"1_Q1\", \"learnToolsVersion\": \"0.3.4\", \"valueTowardsCompletion\": 0.0, \"failureMessage\": \"\", \"exceptionClass\": \"\", \"trace\": \"\", \"outcomeType\": 4}}, \"*\")"
      ],
      "text/plain": [
       "<IPython.core.display.Javascript object>"
      ]
     },
     "metadata": {},
     "output_type": "display_data"
    },
    {
     "data": {
      "text/markdown": [
       "<span style=\"color:#33cc99\">Solution:</span> \n",
       "```python\n",
       "\n",
       "from tensorflow import keras\n",
       "from tensorflow.keras import layers\n",
       "\n",
       "model = keras.Sequential([\n",
       "    # Block One\n",
       "    layers.Conv2D(filters=32, kernel_size=3, activation='relu', padding='same',\n",
       "                  input_shape=[128, 128, 3]),\n",
       "    layers.MaxPool2D(),\n",
       "\n",
       "    # Block Two\n",
       "    layers.Conv2D(filters=64, kernel_size=3, activation='relu', padding='same'),\n",
       "    layers.MaxPool2D(),\n",
       "\n",
       "    # Block Three\n",
       "    layers.Conv2D(filters=128, kernel_size=3, activation='relu', padding='same'),\n",
       "    layers.Conv2D(filters=128, kernel_size=3, activation='relu', padding='same'),\n",
       "    layers.MaxPool2D(),\n",
       "\n",
       "    # Head\n",
       "    layers.Flatten(),\n",
       "    layers.Dense(6, activation='relu'),\n",
       "    layers.Dropout(0.2),\n",
       "    layers.Dense(1, activation='sigmoid'),\n",
       "])\n",
       "\n",
       "```"
      ],
      "text/plain": [
       "Solution: \n",
       "```python\n",
       "\n",
       "from tensorflow import keras\n",
       "from tensorflow.keras import layers\n",
       "\n",
       "model = keras.Sequential([\n",
       "    # Block One\n",
       "    layers.Conv2D(filters=32, kernel_size=3, activation='relu', padding='same',\n",
       "                  input_shape=[128, 128, 3]),\n",
       "    layers.MaxPool2D(),\n",
       "\n",
       "    # Block Two\n",
       "    layers.Conv2D(filters=64, kernel_size=3, activation='relu', padding='same'),\n",
       "    layers.MaxPool2D(),\n",
       "\n",
       "    # Block Three\n",
       "    layers.Conv2D(filters=128, kernel_size=3, activation='relu', padding='same'),\n",
       "    layers.Conv2D(filters=128, kernel_size=3, activation='relu', padding='same'),\n",
       "    layers.MaxPool2D(),\n",
       "\n",
       "    # Head\n",
       "    layers.Flatten(),\n",
       "    layers.Dense(6, activation='relu'),\n",
       "    layers.Dropout(0.2),\n",
       "    layers.Dense(1, activation='sigmoid'),\n",
       "])\n",
       "\n",
       "```"
      ]
     },
     "metadata": {},
     "output_type": "display_data"
    }
   ],
   "source": [
    "# Lines below will give you a hint or solution code\n",
    "q_1.hint()\n",
    "q_1.solution()"
   ]
  },
  {
   "cell_type": "markdown",
   "id": "1b9a3147",
   "metadata": {
    "papermill": {
     "duration": 0.006365,
     "end_time": "2024-06-06T06:13:12.190887",
     "exception": false,
     "start_time": "2024-06-06T06:13:12.184522",
     "status": "completed"
    },
    "tags": []
   },
   "source": [
    "# 2) Compile #\n",
    "\n",
    "To prepare for training, compile the model with an appropriate loss and accuracy metric for the \"Car or Truck\" dataset."
   ]
  },
  {
   "cell_type": "code",
   "execution_count": 4,
   "id": "c95d2ef4",
   "metadata": {
    "execution": {
     "iopub.execute_input": "2024-06-06T06:13:12.206519Z",
     "iopub.status.busy": "2024-06-06T06:13:12.205831Z",
     "iopub.status.idle": "2024-06-06T06:13:12.448358Z",
     "shell.execute_reply": "2024-06-06T06:13:12.447408Z"
    },
    "lines_to_next_cell": 0,
    "papermill": {
     "duration": 0.253078,
     "end_time": "2024-06-06T06:13:12.450643",
     "exception": false,
     "start_time": "2024-06-06T06:13:12.197565",
     "status": "completed"
    },
    "tags": []
   },
   "outputs": [
    {
     "data": {
      "application/javascript": [
       "parent.postMessage({\"jupyterEvent\": \"custom.exercise_interaction\", \"data\": {\"outcomeType\": 1, \"valueTowardsCompletion\": 0.3333333333333333, \"interactionType\": 1, \"questionType\": 2, \"questionId\": \"2_Q2\", \"learnToolsVersion\": \"0.3.4\", \"failureMessage\": \"\", \"exceptionClass\": \"\", \"trace\": \"\"}}, \"*\")"
      ],
      "text/plain": [
       "<IPython.core.display.Javascript object>"
      ]
     },
     "metadata": {},
     "output_type": "display_data"
    },
    {
     "data": {
      "text/markdown": [
       "<span style=\"color:#33cc33\">Correct</span>"
      ],
      "text/plain": [
       "Correct"
      ]
     },
     "metadata": {},
     "output_type": "display_data"
    }
   ],
   "source": [
    "model.compile(\n",
    "    optimizer=tf.keras.optimizers.Adam(epsilon=0.01),\n",
    "    #Add loss and metric\n",
    "    loss='binary_crossentropy',\n",
    "    metrics=['binary_accuracy'],\n",
    ")\n",
    "\n",
    "# Check your answer\n",
    "q_2.check()"
   ]
  },
  {
   "cell_type": "code",
   "execution_count": 5,
   "id": "83c1e5bc",
   "metadata": {
    "execution": {
     "iopub.execute_input": "2024-06-06T06:13:12.467449Z",
     "iopub.status.busy": "2024-06-06T06:13:12.466737Z",
     "iopub.status.idle": "2024-06-06T06:13:12.484492Z",
     "shell.execute_reply": "2024-06-06T06:13:12.483391Z"
    },
    "lines_to_next_cell": 0,
    "papermill": {
     "duration": 0.028643,
     "end_time": "2024-06-06T06:13:12.486745",
     "exception": false,
     "start_time": "2024-06-06T06:13:12.458102",
     "status": "completed"
    },
    "tags": []
   },
   "outputs": [
    {
     "data": {
      "application/javascript": [
       "parent.postMessage({\"jupyterEvent\": \"custom.exercise_interaction\", \"data\": {\"outcomeType\": 1, \"valueTowardsCompletion\": 0.3333333333333333, \"interactionType\": 1, \"questionType\": 2, \"questionId\": \"2_Q2\", \"learnToolsVersion\": \"0.3.4\", \"failureMessage\": \"\", \"exceptionClass\": \"\", \"trace\": \"\"}}, \"*\")"
      ],
      "text/plain": [
       "<IPython.core.display.Javascript object>"
      ]
     },
     "metadata": {},
     "output_type": "display_data"
    },
    {
     "data": {
      "text/markdown": [
       "<span style=\"color:#33cc33\">Correct</span>"
      ],
      "text/plain": [
       "Correct"
      ]
     },
     "metadata": {},
     "output_type": "display_data"
    }
   ],
   "source": [
    "model.compile(\n",
    "    optimizer=tf.keras.optimizers.Adam(epsilon=0.01),\n",
    "    loss='binary_crossentropy',\n",
    "    metrics=['binary_accuracy'],\n",
    ")\n",
    "q_2.assert_check_passed()"
   ]
  },
  {
   "cell_type": "markdown",
   "id": "4d6b240c",
   "metadata": {
    "papermill": {
     "duration": 0.007207,
     "end_time": "2024-06-06T06:13:12.501416",
     "exception": false,
     "start_time": "2024-06-06T06:13:12.494209",
     "status": "completed"
    },
    "tags": []
   },
   "source": [
    "Finally, let's test the performance of this new model. First run this cell to fit the model to the training set."
   ]
  },
  {
   "cell_type": "code",
   "execution_count": 6,
   "id": "4daf0426",
   "metadata": {
    "execution": {
     "iopub.execute_input": "2024-06-06T06:13:12.519069Z",
     "iopub.status.busy": "2024-06-06T06:13:12.518673Z",
     "iopub.status.idle": "2024-06-06T06:16:19.706700Z",
     "shell.execute_reply": "2024-06-06T06:16:19.705746Z"
    },
    "papermill": {
     "duration": 187.200393,
     "end_time": "2024-06-06T06:16:19.709080",
     "exception": false,
     "start_time": "2024-06-06T06:13:12.508687",
     "status": "completed"
    },
    "tags": []
   },
   "outputs": [
    {
     "name": "stdout",
     "output_type": "stream",
     "text": [
      "Epoch 1/50\n"
     ]
    },
    {
     "name": "stderr",
     "output_type": "stream",
     "text": [
      "WARNING: All log messages before absl::InitializeLog() is called are written to STDERR\n",
      "I0000 00:00:1717654397.483857      75 device_compiler.h:186] Compiled cluster using XLA!  This line is logged at most once for the lifetime of the process.\n"
     ]
    },
    {
     "name": "stdout",
     "output_type": "stream",
     "text": [
      "80/80 [==============================] - 19s 160ms/step - loss: 0.6924 - binary_accuracy: 0.5712 - val_loss: 0.6900 - val_binary_accuracy: 0.5805\n",
      "Epoch 2/50\n",
      "80/80 [==============================] - 3s 43ms/step - loss: 0.6889 - binary_accuracy: 0.5820 - val_loss: 0.6876 - val_binary_accuracy: 0.5785\n",
      "Epoch 3/50\n",
      "80/80 [==============================] - 3s 44ms/step - loss: 0.6865 - binary_accuracy: 0.5787 - val_loss: 0.6856 - val_binary_accuracy: 0.5785\n",
      "Epoch 4/50\n",
      "80/80 [==============================] - 3s 43ms/step - loss: 0.6848 - binary_accuracy: 0.5787 - val_loss: 0.6841 - val_binary_accuracy: 0.5785\n",
      "Epoch 5/50\n",
      "80/80 [==============================] - 3s 44ms/step - loss: 0.6835 - binary_accuracy: 0.5787 - val_loss: 0.6831 - val_binary_accuracy: 0.5785\n",
      "Epoch 6/50\n",
      "80/80 [==============================] - 3s 43ms/step - loss: 0.6826 - binary_accuracy: 0.5787 - val_loss: 0.6823 - val_binary_accuracy: 0.5785\n",
      "Epoch 7/50\n",
      "80/80 [==============================] - 3s 43ms/step - loss: 0.6820 - binary_accuracy: 0.5787 - val_loss: 0.6818 - val_binary_accuracy: 0.5785\n",
      "Epoch 8/50\n",
      "80/80 [==============================] - 3s 43ms/step - loss: 0.6816 - binary_accuracy: 0.5787 - val_loss: 0.6814 - val_binary_accuracy: 0.5785\n",
      "Epoch 9/50\n",
      "80/80 [==============================] - 3s 43ms/step - loss: 0.6792 - binary_accuracy: 0.5841 - val_loss: 0.6791 - val_binary_accuracy: 0.5787\n",
      "Epoch 10/50\n",
      "80/80 [==============================] - 3s 43ms/step - loss: 0.6721 - binary_accuracy: 0.6088 - val_loss: 0.6676 - val_binary_accuracy: 0.6205\n",
      "Epoch 11/50\n",
      "80/80 [==============================] - 3s 43ms/step - loss: 0.6709 - binary_accuracy: 0.6093 - val_loss: 0.6649 - val_binary_accuracy: 0.6215\n",
      "Epoch 12/50\n",
      "80/80 [==============================] - 3s 43ms/step - loss: 0.6671 - binary_accuracy: 0.6138 - val_loss: 0.6617 - val_binary_accuracy: 0.6274\n",
      "Epoch 13/50\n",
      "80/80 [==============================] - 3s 43ms/step - loss: 0.6626 - binary_accuracy: 0.6250 - val_loss: 0.6554 - val_binary_accuracy: 0.6407\n",
      "Epoch 14/50\n",
      "80/80 [==============================] - 3s 43ms/step - loss: 0.6591 - binary_accuracy: 0.6269 - val_loss: 0.6506 - val_binary_accuracy: 0.6450\n",
      "Epoch 15/50\n",
      "80/80 [==============================] - 3s 43ms/step - loss: 0.6524 - binary_accuracy: 0.6359 - val_loss: 0.6452 - val_binary_accuracy: 0.6575\n",
      "Epoch 16/50\n",
      "80/80 [==============================] - 3s 43ms/step - loss: 0.6477 - binary_accuracy: 0.6498 - val_loss: 0.6396 - val_binary_accuracy: 0.6666\n",
      "Epoch 17/50\n",
      "80/80 [==============================] - 3s 42ms/step - loss: 0.6436 - binary_accuracy: 0.6516 - val_loss: 0.6385 - val_binary_accuracy: 0.6573\n",
      "Epoch 18/50\n",
      "80/80 [==============================] - 3s 43ms/step - loss: 0.6380 - binary_accuracy: 0.6611 - val_loss: 0.6271 - val_binary_accuracy: 0.6805\n",
      "Epoch 19/50\n",
      "80/80 [==============================] - 3s 43ms/step - loss: 0.6279 - binary_accuracy: 0.6721 - val_loss: 0.6229 - val_binary_accuracy: 0.6783\n",
      "Epoch 20/50\n",
      "80/80 [==============================] - 3s 43ms/step - loss: 0.6211 - binary_accuracy: 0.6785 - val_loss: 0.6120 - val_binary_accuracy: 0.6925\n",
      "Epoch 21/50\n",
      "80/80 [==============================] - 3s 43ms/step - loss: 0.6186 - binary_accuracy: 0.6762 - val_loss: 0.6180 - val_binary_accuracy: 0.6795\n",
      "Epoch 22/50\n",
      "80/80 [==============================] - 3s 43ms/step - loss: 0.6096 - binary_accuracy: 0.6893 - val_loss: 0.6045 - val_binary_accuracy: 0.6975\n",
      "Epoch 23/50\n",
      "80/80 [==============================] - 3s 43ms/step - loss: 0.6001 - binary_accuracy: 0.7033 - val_loss: 0.6033 - val_binary_accuracy: 0.6935\n",
      "Epoch 24/50\n",
      "80/80 [==============================] - 3s 43ms/step - loss: 0.5837 - binary_accuracy: 0.7207 - val_loss: 0.5867 - val_binary_accuracy: 0.7129\n",
      "Epoch 25/50\n",
      "80/80 [==============================] - 3s 43ms/step - loss: 0.5783 - binary_accuracy: 0.7168 - val_loss: 0.5807 - val_binary_accuracy: 0.7197\n",
      "Epoch 26/50\n",
      "80/80 [==============================] - 3s 43ms/step - loss: 0.5678 - binary_accuracy: 0.7280 - val_loss: 0.5653 - val_binary_accuracy: 0.7412\n",
      "Epoch 27/50\n",
      "80/80 [==============================] - 3s 43ms/step - loss: 0.5557 - binary_accuracy: 0.7340 - val_loss: 0.5540 - val_binary_accuracy: 0.7444\n",
      "Epoch 28/50\n",
      "80/80 [==============================] - 3s 43ms/step - loss: 0.5485 - binary_accuracy: 0.7432 - val_loss: 0.5494 - val_binary_accuracy: 0.7464\n",
      "Epoch 29/50\n",
      "80/80 [==============================] - 3s 43ms/step - loss: 0.5272 - binary_accuracy: 0.7626 - val_loss: 0.5226 - val_binary_accuracy: 0.7692\n",
      "Epoch 30/50\n",
      "80/80 [==============================] - 3s 43ms/step - loss: 0.5180 - binary_accuracy: 0.7661 - val_loss: 0.5188 - val_binary_accuracy: 0.7703\n",
      "Epoch 31/50\n",
      "80/80 [==============================] - 3s 43ms/step - loss: 0.5102 - binary_accuracy: 0.7749 - val_loss: 0.5209 - val_binary_accuracy: 0.7696\n",
      "Epoch 32/50\n",
      "80/80 [==============================] - 3s 43ms/step - loss: 0.4910 - binary_accuracy: 0.7870 - val_loss: 0.5044 - val_binary_accuracy: 0.7798\n",
      "Epoch 33/50\n",
      "80/80 [==============================] - 3s 43ms/step - loss: 0.4807 - binary_accuracy: 0.7893 - val_loss: 0.5141 - val_binary_accuracy: 0.7737\n",
      "Epoch 34/50\n",
      "80/80 [==============================] - 3s 43ms/step - loss: 0.4726 - binary_accuracy: 0.7960 - val_loss: 0.5236 - val_binary_accuracy: 0.7636\n",
      "Epoch 35/50\n",
      "80/80 [==============================] - 3s 43ms/step - loss: 0.4563 - binary_accuracy: 0.8083 - val_loss: 0.5133 - val_binary_accuracy: 0.7789\n",
      "Epoch 36/50\n",
      "80/80 [==============================] - 3s 43ms/step - loss: 0.4424 - binary_accuracy: 0.8167 - val_loss: 0.4961 - val_binary_accuracy: 0.7838\n",
      "Epoch 37/50\n",
      "80/80 [==============================] - 3s 43ms/step - loss: 0.4357 - binary_accuracy: 0.8216 - val_loss: 0.4953 - val_binary_accuracy: 0.7895\n",
      "Epoch 38/50\n",
      "80/80 [==============================] - 3s 43ms/step - loss: 0.4281 - binary_accuracy: 0.8261 - val_loss: 0.5027 - val_binary_accuracy: 0.7892\n",
      "Epoch 39/50\n",
      "80/80 [==============================] - 3s 43ms/step - loss: 0.4256 - binary_accuracy: 0.8218 - val_loss: 0.4925 - val_binary_accuracy: 0.7990\n",
      "Epoch 40/50\n",
      "80/80 [==============================] - 3s 43ms/step - loss: 0.3927 - binary_accuracy: 0.8435 - val_loss: 0.4607 - val_binary_accuracy: 0.8147\n",
      "Epoch 41/50\n",
      "80/80 [==============================] - 3s 43ms/step - loss: 0.4231 - binary_accuracy: 0.8259 - val_loss: 0.4839 - val_binary_accuracy: 0.7897\n",
      "Epoch 42/50\n",
      "80/80 [==============================] - 3s 43ms/step - loss: 0.4170 - binary_accuracy: 0.8292 - val_loss: 0.5156 - val_binary_accuracy: 0.7638\n",
      "Epoch 43/50\n",
      "80/80 [==============================] - 3s 43ms/step - loss: 0.3992 - binary_accuracy: 0.8413 - val_loss: 0.5092 - val_binary_accuracy: 0.7682\n",
      "Epoch 44/50\n",
      "80/80 [==============================] - 3s 43ms/step - loss: 0.4072 - binary_accuracy: 0.8325 - val_loss: 0.5582 - val_binary_accuracy: 0.7268\n",
      "Epoch 45/50\n",
      "80/80 [==============================] - 3s 43ms/step - loss: 0.3989 - binary_accuracy: 0.8372 - val_loss: 0.5061 - val_binary_accuracy: 0.7697\n",
      "Epoch 46/50\n",
      "80/80 [==============================] - 3s 43ms/step - loss: 0.3809 - binary_accuracy: 0.8525 - val_loss: 0.5025 - val_binary_accuracy: 0.7729\n",
      "Epoch 47/50\n",
      "80/80 [==============================] - 3s 43ms/step - loss: 0.3472 - binary_accuracy: 0.8698 - val_loss: 0.4490 - val_binary_accuracy: 0.8157\n",
      "Epoch 48/50\n",
      "80/80 [==============================] - 3s 43ms/step - loss: 0.3368 - binary_accuracy: 0.8757 - val_loss: 0.4542 - val_binary_accuracy: 0.8206\n",
      "Epoch 49/50\n",
      "80/80 [==============================] - 3s 43ms/step - loss: 0.3264 - binary_accuracy: 0.8798 - val_loss: 0.4501 - val_binary_accuracy: 0.8198\n",
      "Epoch 50/50\n",
      "80/80 [==============================] - 3s 43ms/step - loss: 0.3131 - binary_accuracy: 0.8902 - val_loss: 0.4391 - val_binary_accuracy: 0.8252\n"
     ]
    }
   ],
   "source": [
    "history = model.fit(\n",
    "    ds_train,\n",
    "    validation_data=ds_valid,\n",
    "    epochs=50,\n",
    ")"
   ]
  },
  {
   "cell_type": "markdown",
   "id": "e16e1c2b",
   "metadata": {
    "papermill": {
     "duration": 0.192777,
     "end_time": "2024-06-06T06:16:20.110582",
     "exception": false,
     "start_time": "2024-06-06T06:16:19.917805",
     "status": "completed"
    },
    "tags": []
   },
   "source": [
    "And now run the cell below to plot the loss and metric curves for this training run."
   ]
  },
  {
   "cell_type": "code",
   "execution_count": 7,
   "id": "08b15935",
   "metadata": {
    "execution": {
     "iopub.execute_input": "2024-06-06T06:16:20.483170Z",
     "iopub.status.busy": "2024-06-06T06:16:20.482278Z",
     "iopub.status.idle": "2024-06-06T06:16:21.317467Z",
     "shell.execute_reply": "2024-06-06T06:16:21.316486Z"
    },
    "papermill": {
     "duration": 1.023079,
     "end_time": "2024-06-06T06:16:21.319715",
     "exception": false,
     "start_time": "2024-06-06T06:16:20.296636",
     "status": "completed"
    },
    "tags": []
   },
   "outputs": [
    {
     "data": {
      "image/png": "[encoded data removed]",
      "text/plain": [
       "<Figure size 640x480 with 1 Axes>"
      ]
     },
     "metadata": {},
     "output_type": "display_data"
    },
    {
     "data": {
      "image/png": "[encoded data removed]",
      "text/plain": [
       "<Figure size 640x480 with 1 Axes>"
      ]
     },
     "metadata": {},
     "output_type": "display_data"
    }
   ],
   "source": [
    "import pandas as pd\n",
    "history_frame = pd.DataFrame(history.history)\n",
    "history_frame.loc[:, ['loss', 'val_loss']].plot()\n",
    "history_frame.loc[:, ['binary_accuracy', 'val_binary_accuracy']].plot();"
   ]
  },
  {
   "cell_type": "markdown",
   "id": "b83403ec",
   "metadata": {
    "papermill": {
     "duration": 0.196046,
     "end_time": "2024-06-06T06:16:21.716783",
     "exception": false,
     "start_time": "2024-06-06T06:16:21.520737",
     "status": "completed"
    },
    "tags": []
   },
   "source": [
    "# 3) Train the Model #\n",
    "\n",
    "How would you interpret these training curves? Did this model improve upon the model from the tutorial?"
   ]
  },
  {
   "cell_type": "markdown",
   "id": "8f8a1162",
   "metadata": {
    "papermill": {
     "duration": 0.195957,
     "end_time": "2024-06-06T06:16:22.104773",
     "exception": false,
     "start_time": "2024-06-06T06:16:21.908816",
     "status": "completed"
    },
    "tags": []
   },
   "source": [
    "The learning curves for the model from the tutorial diverged fairly rapidly. This would indicate that it was prone to overfitting and in need of some regularization*. The additional layer in our new model would make it even more prone to overfitting. However, adding some regularization with the Dropout layer helped prevent this. These changes improved the validation accuracy of the model by several points."
   ]
  },
  {
   "cell_type": "markdown",
   "id": "23c7f4c8",
   "metadata": {
    "papermill": {
     "duration": 0.185699,
     "end_time": "2024-06-06T06:16:22.479735",
     "exception": false,
     "start_time": "2024-06-06T06:16:22.294036",
     "status": "completed"
    },
    "tags": []
   },
   "source": [
    ">*Regularization in machine learning refers to techniques used to reduce the complexity of a model, which helps prevent overfitting and improves the generalization performance of the model. Overfitting occurs when a model learns not only the underlying patterns in the training data but also the noise, leading to poor performance on unseen data. Regularization adds a penalty to the loss function to discourage the model from fitting the noise.\n",
    "\n",
    "    Dropout\n",
    "\n",
    "    Technique: Randomly \"drops out\" (sets to zero) a fraction of the neurons during training in each forward and backward pass.\n",
    "    Effect: Prevents neurons from co-adapting too much, thus promoting independence and reducing overfitting.\n",
    "    \n",
    "    In the context of neural networks, layers.Dropout(0.2) refers to a dropout layer in a Keras model with a dropout rate of 0.2. Dropout is a regularization technique used to prevent overfitting in neural networks by randomly setting a fraction of input units to 0 at each update during training time. This helps the network to learn more robust features that are not reliant on the presence of any particular neurons.Dropout Rate (0.2): The dropout rate specifies the fraction of the input units to drop. In this case, 0.2 means that 20% of the input units are set to 0 at each update during training."
   ]
  },
  {
   "cell_type": "markdown",
   "id": "3073099d",
   "metadata": {
    "papermill": {
     "duration": 0.191366,
     "end_time": "2024-06-06T06:16:22.903650",
     "exception": false,
     "start_time": "2024-06-06T06:16:22.712284",
     "status": "completed"
    },
    "tags": []
   },
   "source": [
    "# Conclusion #\n",
    "\n",
    "These exercises showed you how to design a custom convolutional network to solve a specific classification problem. Though most models these days will be built on top of a pretrained base, it certain circumstances a smaller custom convnet might still be preferable -- such as with a smaller or unusual dataset or when computing resources are very limited. As you saw here, for certain problems they can perform just as well as a pretrained model.\n",
    "\n",
    "# Keep Going #\n",
    "\n",
    "Continue on to [**Lesson 6**](https://www.kaggle.com/ryanholbrook/data-augmentation), where you'll learn a widely-used technique that can give a boost to your training data: **data augmentation**."
   ]
  },
  {
   "cell_type": "markdown",
   "id": "e68bcade",
   "metadata": {
    "papermill": {
     "duration": 0.190427,
     "end_time": "2024-06-06T06:16:23.285689",
     "exception": false,
     "start_time": "2024-06-06T06:16:23.095262",
     "status": "completed"
    },
    "tags": []
   },
   "source": [
    "---\n",
    "\n",
    "\n",
    "\n",
    "\n",
    "*Have questions or comments? Visit the [course discussion forum](https://www.kaggle.com/learn/computer-vision/discussion) to chat with other learners.*"
   ]
  }
 ],
 "metadata": {
  "jupytext": {
   "formats": "md,ipynb"
  },
  "kaggle": {
   "accelerator": "gpu",
   "dataSources": [
    {
     "datasetId": 708136,
     "sourceId": 1338830,
     "sourceType": "datasetVersion"
    },
    {
     "datasetId": 701538,
     "sourceId": 1363948,
     "sourceType": "datasetVersion"
    },
    {
     "datasetId": 878523,
     "sourceId": 1495782,
     "sourceType": "datasetVersion"
    }
   ],
   "dockerImageVersionId": 30648,
   "isGpuEnabled": true,
   "isInternetEnabled": false,
   "language": "python",
   "sourceType": "notebook"
  },
  "kernelspec": {
   "display_name": "Python 3",
   "language": "python",
   "name": "python3"
  },
  "language_info": {
   "codemirror_mode": {
    "name": "ipython",
    "version": 3
   },
   "file_extension": ".py",
   "mimetype": "text/x-python",
   "name": "python",
   "nbconvert_exporter": "python",
   "pygments_lexer": "ipython3",
   "version": "3.10.13"
  },
  "papermill": {
   "default_parameters": {},
   "duration": 221.59577,
   "end_time": "2024-06-06T06:16:25.905418",
   "environment_variables": {},
   "exception": null,
   "input_path": "__notebook__.ipynb",
   "output_path": "__notebook__.ipynb",
   "parameters": {},
   "start_time": "2024-06-06T06:12:44.309648",
   "version": "2.5.0"
  }
 },
 "nbformat": 4,
 "nbformat_minor": 5
}
