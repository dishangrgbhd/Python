{
 "cells": [
  {
   "cell_type": "markdown",
   "id": "6a8e9c0f",
   "metadata": {
    "papermill": {
     "duration": 0.006515,
     "end_time": "2024-05-26T14:27:33.687070",
     "exception": false,
     "start_time": "2024-05-26T14:27:33.680555",
     "status": "completed"
    },
    "tags": []
   },
   "source": [
    "**This notebook is an exercise in the [Intro to Deep Learning](https://www.kaggle.com/learn/intro-to-deep-learning) course.  You can reference the tutorial at [this link](https://www.kaggle.com/ryanholbrook/deep-neural-networks).**\n",
    "\n",
    "---\n"
   ]
  },
  {
   "cell_type": "markdown",
   "id": "044e13dc",
   "metadata": {
    "papermill": {
     "duration": 0.005841,
     "end_time": "2024-05-26T14:27:33.699339",
     "exception": false,
     "start_time": "2024-05-26T14:27:33.693498",
     "status": "completed"
    },
    "tags": []
   },
   "source": [
    "# Introduction #\n",
    "\n",
    "In the tutorial, we saw how to build deep neural networks by stacking layers inside a `Sequential` model. By adding an *activation function* after the hidden layers, we gave the network the ability to learn more complex (non-linear) relationships in the data.\n",
    "\n",
    "In these exercises, you'll build a neural network with several hidden layers and then explore some activation functions beyond ReLU. Run this next cell to set everything up!"
   ]
  },
  {
   "cell_type": "code",
   "execution_count": 1,
   "id": "f7167734",
   "metadata": {
    "execution": {
     "iopub.execute_input": "2024-05-26T14:27:33.714015Z",
     "iopub.status.busy": "2024-05-26T14:27:33.713471Z",
     "iopub.status.idle": "2024-05-26T14:27:51.191678Z",
     "shell.execute_reply": "2024-05-26T14:27:51.189627Z"
    },
    "papermill": {
     "duration": 17.489376,
     "end_time": "2024-05-26T14:27:51.194851",
     "exception": false,
     "start_time": "2024-05-26T14:27:33.705475",
     "status": "completed"
    },
    "tags": []
   },
   "outputs": [
    {
     "name": "stderr",
     "output_type": "stream",
     "text": [
      "2024-05-26 14:27:36.214487: E external/local_xla/xla/stream_executor/cuda/cuda_dnn.cc:9261] Unable to register cuDNN factory: Attempting to register factory for plugin cuDNN when one has already been registered\n",
      "2024-05-26 14:27:36.214639: E external/local_xla/xla/stream_executor/cuda/cuda_fft.cc:607] Unable to register cuFFT factory: Attempting to register factory for plugin cuFFT when one has already been registered\n",
      "2024-05-26 14:27:36.395720: E external/local_xla/xla/stream_executor/cuda/cuda_blas.cc:1515] Unable to register cuBLAS factory: Attempting to register factory for plugin cuBLAS when one has already been registered\n",
      "/tmp/ipykernel_19/3168024915.py:6: MatplotlibDeprecationWarning: The seaborn styles shipped by Matplotlib are deprecated since 3.6, as they no longer correspond to the styles shipped by seaborn. However, they will remain available as 'seaborn-v0_8-<style>'. Alternatively, directly use the seaborn API instead.\n",
      "  plt.style.use('seaborn-whitegrid')\n"
     ]
    }
   ],
   "source": [
    "import tensorflow as tf\n",
    "\n",
    "# Setup plotting\n",
    "import matplotlib.pyplot as plt\n",
    "\n",
    "plt.style.use('seaborn-whitegrid')\n",
    "# Set Matplotlib defaults\n",
    "plt.rc('figure', autolayout=True)\n",
    "plt.rc('axes', labelweight='bold', labelsize='large',\n",
    "       titleweight='bold', titlesize=18, titlepad=10)\n",
    "\n",
    "# Setup feedback system\n",
    "from learntools.core import binder\n",
    "binder.bind(globals())\n",
    "from learntools.deep_learning_intro.ex2 import *"
   ]
  },
  {
   "cell_type": "markdown",
   "id": "9b6ef5a5",
   "metadata": {
    "papermill": {
     "duration": 0.006626,
     "end_time": "2024-05-26T14:27:51.208359",
     "exception": false,
     "start_time": "2024-05-26T14:27:51.201733",
     "status": "completed"
    },
    "tags": []
   },
   "source": [
    "In the *Concrete* dataset, your task is to predict the compressive strength of concrete manufactured according to various recipes.\n",
    "\n",
    "Run the next code cell without changes to load the dataset."
   ]
  },
  {
   "cell_type": "code",
   "execution_count": 2,
   "id": "41e50953",
   "metadata": {
    "execution": {
     "iopub.execute_input": "2024-05-26T14:27:51.226202Z",
     "iopub.status.busy": "2024-05-26T14:27:51.225297Z",
     "iopub.status.idle": "2024-05-26T14:27:51.272711Z",
     "shell.execute_reply": "2024-05-26T14:27:51.271326Z"
    },
    "papermill": {
     "duration": 0.060346,
     "end_time": "2024-05-26T14:27:51.275660",
     "exception": false,
     "start_time": "2024-05-26T14:27:51.215314",
     "status": "completed"
    },
    "tags": []
   },
   "outputs": [
    {
     "data": {
      "text/html": [
       "<div>\n",
       "<style scoped>\n",
       "    .dataframe tbody tr th:only-of-type {\n",
       "        vertical-align: middle;\n",
       "    }\n",
       "\n",
       "    .dataframe tbody tr th {\n",
       "        vertical-align: top;\n",
       "    }\n",
       "\n",
       "    .dataframe thead th {\n",
       "        text-align: right;\n",
       "    }\n",
       "</style>\n",
       "<table border=\"1\" class=\"dataframe\">\n",
       "  <thead>\n",
       "    <tr style=\"text-align: right;\">\n",
       "      <th></th>\n",
       "      <th>Cement</th>\n",
       "      <th>BlastFurnaceSlag</th>\n",
       "      <th>FlyAsh</th>\n",
       "      <th>Water</th>\n",
       "      <th>Superplasticizer</th>\n",
       "      <th>CoarseAggregate</th>\n",
       "      <th>FineAggregate</th>\n",
       "      <th>Age</th>\n",
       "      <th>CompressiveStrength</th>\n",
       "    </tr>\n",
       "  </thead>\n",
       "  <tbody>\n",
       "    <tr>\n",
       "      <th>0</th>\n",
       "      <td>540.0</td>\n",
       "      <td>0.0</td>\n",
       "      <td>0.0</td>\n",
       "      <td>162.0</td>\n",
       "      <td>2.5</td>\n",
       "      <td>1040.0</td>\n",
       "      <td>676.0</td>\n",
       "      <td>28</td>\n",
       "      <td>79.99</td>\n",
       "    </tr>\n",
       "    <tr>\n",
       "      <th>1</th>\n",
       "      <td>540.0</td>\n",
       "      <td>0.0</td>\n",
       "      <td>0.0</td>\n",
       "      <td>162.0</td>\n",
       "      <td>2.5</td>\n",
       "      <td>1055.0</td>\n",
       "      <td>676.0</td>\n",
       "      <td>28</td>\n",
       "      <td>61.89</td>\n",
       "    </tr>\n",
       "    <tr>\n",
       "      <th>2</th>\n",
       "      <td>332.5</td>\n",
       "      <td>142.5</td>\n",
       "      <td>0.0</td>\n",
       "      <td>228.0</td>\n",
       "      <td>0.0</td>\n",
       "      <td>932.0</td>\n",
       "      <td>594.0</td>\n",
       "      <td>270</td>\n",
       "      <td>40.27</td>\n",
       "    </tr>\n",
       "    <tr>\n",
       "      <th>3</th>\n",
       "      <td>332.5</td>\n",
       "      <td>142.5</td>\n",
       "      <td>0.0</td>\n",
       "      <td>228.0</td>\n",
       "      <td>0.0</td>\n",
       "      <td>932.0</td>\n",
       "      <td>594.0</td>\n",
       "      <td>365</td>\n",
       "      <td>41.05</td>\n",
       "    </tr>\n",
       "    <tr>\n",
       "      <th>4</th>\n",
       "      <td>198.6</td>\n",
       "      <td>132.4</td>\n",
       "      <td>0.0</td>\n",
       "      <td>192.0</td>\n",
       "      <td>0.0</td>\n",
       "      <td>978.4</td>\n",
       "      <td>825.5</td>\n",
       "      <td>360</td>\n",
       "      <td>44.30</td>\n",
       "    </tr>\n",
       "  </tbody>\n",
       "</table>\n",
       "</div>"
      ],
      "text/plain": [
       "   Cement  BlastFurnaceSlag  FlyAsh  Water  Superplasticizer  CoarseAggregate  \\\n",
       "0   540.0               0.0     0.0  162.0               2.5           1040.0   \n",
       "1   540.0               0.0     0.0  162.0               2.5           1055.0   \n",
       "2   332.5             142.5     0.0  228.0               0.0            932.0   \n",
       "3   332.5             142.5     0.0  228.0               0.0            932.0   \n",
       "4   198.6             132.4     0.0  192.0               0.0            978.4   \n",
       "\n",
       "   FineAggregate  Age  CompressiveStrength  \n",
       "0          676.0   28                79.99  \n",
       "1          676.0   28                61.89  \n",
       "2          594.0  270                40.27  \n",
       "3          594.0  365                41.05  \n",
       "4          825.5  360                44.30  "
      ]
     },
     "execution_count": 2,
     "metadata": {},
     "output_type": "execute_result"
    }
   ],
   "source": [
    "import pandas as pd\n",
    "\n",
    "concrete = pd.read_csv('../input/dl-course-data/concrete.csv')\n",
    "concrete.head()"
   ]
  },
  {
   "cell_type": "code",
   "execution_count": 3,
   "id": "1d9324aa",
   "metadata": {
    "execution": {
     "iopub.execute_input": "2024-05-26T14:27:51.292036Z",
     "iopub.status.busy": "2024-05-26T14:27:51.291475Z",
     "iopub.status.idle": "2024-05-26T14:27:51.298323Z",
     "shell.execute_reply": "2024-05-26T14:27:51.297179Z"
    },
    "papermill": {
     "duration": 0.018899,
     "end_time": "2024-05-26T14:27:51.301579",
     "exception": false,
     "start_time": "2024-05-26T14:27:51.282680",
     "status": "completed"
    },
    "tags": []
   },
   "outputs": [
    {
     "data": {
      "text/plain": [
       "(1030, 9)"
      ]
     },
     "execution_count": 3,
     "metadata": {},
     "output_type": "execute_result"
    }
   ],
   "source": [
    "concrete.shape"
   ]
  },
  {
   "cell_type": "markdown",
   "id": "2c58e07b",
   "metadata": {
    "papermill": {
     "duration": 0.00666,
     "end_time": "2024-05-26T14:27:51.315203",
     "exception": false,
     "start_time": "2024-05-26T14:27:51.308543",
     "status": "completed"
    },
    "tags": []
   },
   "source": [
    "# 1) Input Shape #\n",
    "\n",
    "The target for this task is the column `'CompressiveStrength'`. The remaining columns are the features we'll use as inputs.\n",
    "\n",
    "What would be the input shape for this dataset?"
   ]
  },
  {
   "cell_type": "code",
   "execution_count": 4,
   "id": "a6598032",
   "metadata": {
    "execution": {
     "iopub.execute_input": "2024-05-26T14:27:51.330718Z",
     "iopub.status.busy": "2024-05-26T14:27:51.330337Z",
     "iopub.status.idle": "2024-05-26T14:27:51.340678Z",
     "shell.execute_reply": "2024-05-26T14:27:51.339312Z"
    },
    "lines_to_next_cell": 2,
    "papermill": {
     "duration": 0.021218,
     "end_time": "2024-05-26T14:27:51.343195",
     "exception": false,
     "start_time": "2024-05-26T14:27:51.321977",
     "status": "completed"
    },
    "tags": []
   },
   "outputs": [
    {
     "data": {
      "application/javascript": [
       "parent.postMessage({\"jupyterEvent\": \"custom.exercise_interaction\", \"data\": {\"outcomeType\": 1, \"valueTowardsCompletion\": 0.3333333333333333, \"interactionType\": 1, \"questionType\": 2, \"questionId\": \"1_Q1\", \"learnToolsVersion\": \"0.3.4\", \"failureMessage\": \"\", \"exceptionClass\": \"\", \"trace\": \"\"}}, \"*\")"
      ],
      "text/plain": [
       "<IPython.core.display.Javascript object>"
      ]
     },
     "metadata": {},
     "output_type": "display_data"
    },
    {
     "data": {
      "text/markdown": [
       "<span style=\"color:#33cc33\">Correct</span>"
      ],
      "text/plain": [
       "Correct"
      ]
     },
     "metadata": {},
     "output_type": "display_data"
    }
   ],
   "source": [
    "# YOUR CODE HERE\n",
    "input_shape = [8]\n",
    "\n",
    "# Check your answer\n",
    "q_1.check()"
   ]
  },
  {
   "cell_type": "markdown",
   "id": "adbe0e1b",
   "metadata": {
    "papermill": {
     "duration": 0.007066,
     "end_time": "2024-05-26T14:27:51.357491",
     "exception": false,
     "start_time": "2024-05-26T14:27:51.350425",
     "status": "completed"
    },
    "tags": []
   },
   "source": [
    "# 2) Define a Model with Hidden Layers #\n",
    "\n",
    "Now create a model with three hidden layers, each having 512 units and the ReLU activation.  Be sure to include an output layer of one unit and no activation, and also `input_shape` as an argument to the first layer."
   ]
  },
  {
   "cell_type": "code",
   "execution_count": 5,
   "id": "d23145de",
   "metadata": {
    "execution": {
     "iopub.execute_input": "2024-05-26T14:27:51.373914Z",
     "iopub.status.busy": "2024-05-26T14:27:51.373379Z",
     "iopub.status.idle": "2024-05-26T14:27:51.674949Z",
     "shell.execute_reply": "2024-05-26T14:27:51.673540Z"
    },
    "lines_to_next_cell": 0,
    "papermill": {
     "duration": 0.312933,
     "end_time": "2024-05-26T14:27:51.677620",
     "exception": false,
     "start_time": "2024-05-26T14:27:51.364687",
     "status": "completed"
    },
    "tags": []
   },
   "outputs": [
    {
     "data": {
      "application/javascript": [
       "parent.postMessage({\"jupyterEvent\": \"custom.exercise_interaction\", \"data\": {\"outcomeType\": 1, \"valueTowardsCompletion\": 0.3333333333333333, \"interactionType\": 1, \"questionType\": 2, \"questionId\": \"2_Q2\", \"learnToolsVersion\": \"0.3.4\", \"failureMessage\": \"\", \"exceptionClass\": \"\", \"trace\": \"\"}}, \"*\")"
      ],
      "text/plain": [
       "<IPython.core.display.Javascript object>"
      ]
     },
     "metadata": {},
     "output_type": "display_data"
    },
    {
     "data": {
      "text/markdown": [
       "<span style=\"color:#33cc33\">Correct</span>"
      ],
      "text/plain": [
       "Correct"
      ]
     },
     "metadata": {},
     "output_type": "display_data"
    }
   ],
   "source": [
    "from tensorflow import keras\n",
    "from tensorflow.keras import layers\n",
    "\n",
    "# YOUR CODE HERE\n",
    "model = keras.Sequential([\n",
    "    layers.Dense(units=512,activation='relu',input_shape=[8]),\n",
    "    layers.Dense(units=512,activation='relu'),\n",
    "    layers.Dense(units=512,activation='relu'),\n",
    "    layers.Dense(units=1),\n",
    "])\n",
    "\n",
    "# Check your answer\n",
    "q_2.check()"
   ]
  },
  {
   "cell_type": "markdown",
   "id": "8f0fc737",
   "metadata": {
    "papermill": {
     "duration": 0.007115,
     "end_time": "2024-05-26T14:27:51.692208",
     "exception": false,
     "start_time": "2024-05-26T14:27:51.685093",
     "status": "completed"
    },
    "tags": []
   },
   "source": [
    "# 3) Activation Layers #\n",
    "\n",
    "Let's explore activations functions some.\n",
    "\n",
    "The usual way of attaching an activation function to a `Dense` layer is to include it as part of the definition with the `activation` argument. Sometimes though you'll want to put some other layer between the `Dense` layer and its activation function. (We'll see an example of this in Lesson 5 with *batch normalization*.) In this case, we can define the activation in its own `Activation` layer, like so:\n",
    "\n",
    "```\n",
    "layers.Dense(units=8),\n",
    "layers.Activation('relu')\n",
    "```\n",
    "\n",
    "This is completely equivalent to the ordinary way: `layers.Dense(units=8, activation='relu')`.\n",
    "\n",
    "Rewrite the following model so that each activation is in its own `Activation` layer."
   ]
  },
  {
   "cell_type": "code",
   "execution_count": 6,
   "id": "66fff34e",
   "metadata": {
    "execution": {
     "iopub.execute_input": "2024-05-26T14:27:51.709338Z",
     "iopub.status.busy": "2024-05-26T14:27:51.708848Z",
     "iopub.status.idle": "2024-05-26T14:27:51.787675Z",
     "shell.execute_reply": "2024-05-26T14:27:51.786499Z"
    },
    "lines_to_next_cell": 0,
    "papermill": {
     "duration": 0.090664,
     "end_time": "2024-05-26T14:27:51.790229",
     "exception": false,
     "start_time": "2024-05-26T14:27:51.699565",
     "status": "completed"
    },
    "tags": []
   },
   "outputs": [
    {
     "data": {
      "application/javascript": [
       "parent.postMessage({\"jupyterEvent\": \"custom.exercise_interaction\", \"data\": {\"outcomeType\": 1, \"valueTowardsCompletion\": 0.3333333333333333, \"interactionType\": 1, \"questionType\": 2, \"questionId\": \"3_Q3\", \"learnToolsVersion\": \"0.3.4\", \"failureMessage\": \"\", \"exceptionClass\": \"\", \"trace\": \"\"}}, \"*\")"
      ],
      "text/plain": [
       "<IPython.core.display.Javascript object>"
      ]
     },
     "metadata": {},
     "output_type": "display_data"
    },
    {
     "data": {
      "text/markdown": [
       "<span style=\"color:#33cc33\">Correct</span>"
      ],
      "text/plain": [
       "Correct"
      ]
     },
     "metadata": {},
     "output_type": "display_data"
    }
   ],
   "source": [
    "### YOUR CODE HERE: rewrite this to use activation layers\n",
    "model = keras.Sequential([\n",
    "    layers.Dense(32, input_shape=[8]),\n",
    "    layers.Activation('relu'),\n",
    "    layers.Dense(32),\n",
    "    layers.Activation('relu'),\n",
    "    layers.Dense(1),\n",
    "])\n",
    "\n",
    "# Check your answer\n",
    "q_3.check()"
   ]
  },
  {
   "cell_type": "markdown",
   "id": "05b9d228",
   "metadata": {
    "papermill": {
     "duration": 0.007509,
     "end_time": "2024-05-26T14:27:51.805643",
     "exception": false,
     "start_time": "2024-05-26T14:27:51.798134",
     "status": "completed"
    },
    "tags": []
   },
   "source": [
    "# Optional: Alternatives to ReLU #\n",
    "\n",
    "There is a whole family of variants of the `'relu'` activation -- `'elu'`, `'selu'`, and `'swish'`, among others -- all of which you can use in Keras. Sometimes one activation will perform better than another on a given task, so you could consider experimenting with activations as you develop a model. The ReLU activation tends to do well on most problems, so it's a good one to start with.\n",
    "\n",
    "Let's look at the graphs of some of these. Change the activation from `'relu'` to one of the others named above. Then run the cell to see the graph. (Check out the [documentation](https://www.tensorflow.org/api_docs/python/tf/keras/activations) for more ideas.)"
   ]
  },
  {
   "cell_type": "code",
   "execution_count": 7,
   "id": "3c2abbee",
   "metadata": {
    "execution": {
     "iopub.execute_input": "2024-05-26T14:27:51.823671Z",
     "iopub.status.busy": "2024-05-26T14:27:51.823164Z",
     "iopub.status.idle": "2024-05-26T14:27:52.215778Z",
     "shell.execute_reply": "2024-05-26T14:27:52.214701Z"
    },
    "lines_to_next_cell": 0,
    "papermill": {
     "duration": 0.40481,
     "end_time": "2024-05-26T14:27:52.218329",
     "exception": false,
     "start_time": "2024-05-26T14:27:51.813519",
     "status": "completed"
    },
    "tags": []
   },
   "outputs": [
    {
     "data": {
      "image/png": "[encoded data removed]",
      "text/plain": [
       "<Figure size 640x480 with 1 Axes>"
      ]
     },
     "metadata": {},
     "output_type": "display_data"
    }
   ],
   "source": [
    "# YOUR CODE HERE: Change 'relu' to 'elu', 'selu', 'swish'... or something else\n",
    "activation_layer = layers.Activation('relu')\n",
    "\n",
    "x = tf.linspace(-3.0, 3.0, 100)\n",
    "y = activation_layer(x) # once created, a layer is callable just like a function\n",
    "\n",
    "plt.figure(dpi=100)\n",
    "plt.plot(x, y)\n",
    "plt.xlim(-3, 3)\n",
    "plt.xlabel(\"Input\")\n",
    "plt.ylabel(\"Output\")\n",
    "plt.show()"
   ]
  },
  {
   "cell_type": "markdown",
   "id": "6e3753c5",
   "metadata": {
    "papermill": {
     "duration": 0.012544,
     "end_time": "2024-05-26T14:27:52.243732",
     "exception": false,
     "start_time": "2024-05-26T14:27:52.231188",
     "status": "completed"
    },
    "tags": []
   },
   "source": [
    "# ****Side by Side comparisons of different activation functions:****"
   ]
  },
  {
   "cell_type": "markdown",
   "id": "8a1618d6",
   "metadata": {
    "papermill": {
     "duration": 0.00846,
     "end_time": "2024-05-26T14:27:52.261970",
     "exception": false,
     "start_time": "2024-05-26T14:27:52.253510",
     "status": "completed"
    },
    "tags": []
   },
   "source": [
    "The code below creates a side-by-side comparison of different activation functions (Swish, ReLU, elu, Selu) by plotting their output against a range of input values. It sets up a figure with multiple subplots, applies each activation function to the same input data, and plots the results in their respective subplots. This visual comparison helps understand how different activation functions transform the input data."
   ]
  },
  {
   "cell_type": "code",
   "execution_count": 8,
   "id": "d0bf451d",
   "metadata": {
    "execution": {
     "iopub.execute_input": "2024-05-26T14:27:52.281592Z",
     "iopub.status.busy": "2024-05-26T14:27:52.280283Z",
     "iopub.status.idle": "2024-05-26T14:27:53.261107Z",
     "shell.execute_reply": "2024-05-26T14:27:53.259639Z"
    },
    "papermill": {
     "duration": 0.994242,
     "end_time": "2024-05-26T14:27:53.264617",
     "exception": false,
     "start_time": "2024-05-26T14:27:52.270375",
     "status": "completed"
    },
    "tags": []
   },
   "outputs": [
    {
     "data": {
      "image/png": "[encoded data removed]",
      "text/plain": [
       "<Figure size 1500x500 with 4 Axes>"
      ]
     },
     "metadata": {},
     "output_type": "display_data"
    }
   ],
   "source": [
    "import tensorflow as tf\n",
    "from tensorflow.keras import layers\n",
    "import matplotlib.pyplot as plt\n",
    "\n",
    "# Define the activation functions\n",
    "activation_functions = {\n",
    "    'swish': layers.Activation('swish'),\n",
    "    'relu': layers.Activation('relu'),\n",
    "    'elu': layers.Activation('elu'),\n",
    "    'selu': layers.Activation('selu')\n",
    "}\n",
    "\n",
    "# Generate input data\n",
    "x = tf.linspace(-3.0, 3.0, 100)\n",
    "\n",
    "# Create subplots\n",
    "fig, axes = plt.subplots(1, len(activation_functions), figsize=(15, 5), dpi=100)\n",
    "\n",
    "# Plot each activation function\n",
    "for ax, (name, activation_layer) in zip(axes, activation_functions.items()):\n",
    "    y = activation_layer(x) # Apply the activation function\n",
    "    ax.plot(x, y)\n",
    "    ax.set_xlim(-3, 3)\n",
    "    ax.set_ylim(-1.5, 1.5) # Adjusted to fit all activation functions\n",
    "    ax.set_xlabel(\"Input\")\n",
    "    ax.set_ylabel(\"Output\")\n",
    "    ax.set_title(name)\n",
    "\n",
    "plt.tight_layout()\n",
    "plt.show()\n"
   ]
  },
  {
   "cell_type": "markdown",
   "id": "fe9b924a",
   "metadata": {
    "papermill": {
     "duration": 0.010463,
     "end_time": "2024-05-26T14:27:53.285410",
     "exception": false,
     "start_time": "2024-05-26T14:27:53.274947",
     "status": "completed"
    },
    "tags": []
   },
   "source": [
    "# Keep Going #\n",
    "\n",
    "Now move on to Lesson 3 and [**learn how to train neural networks**](https://www.kaggle.com/ryanholbrook/stochastic-gradient-descent) with stochastic gradient descent."
   ]
  },
  {
   "cell_type": "markdown",
   "id": "d7806bf9",
   "metadata": {
    "papermill": {
     "duration": 0.009216,
     "end_time": "2024-05-26T14:27:53.304486",
     "exception": false,
     "start_time": "2024-05-26T14:27:53.295270",
     "status": "completed"
    },
    "tags": []
   },
   "source": [
    "---\n",
    "\n",
    "\n",
    "\n",
    "\n",
    "*Have questions or comments? Visit the [course discussion forum](https://www.kaggle.com/learn/intro-to-deep-learning/discussion) to chat with other learners.*"
   ]
  }
 ],
 "metadata": {
  "jupytext": {
   "cell_metadata_filter": "-all",
   "formats": "ipynb"
  },
  "kaggle": {
   "accelerator": "none",
   "dataSources": [
    {
     "datasetId": 829369,
     "sourceId": 1480608,
     "sourceType": "datasetVersion"
    }
   ],
   "dockerImageVersionId": 30646,
   "isGpuEnabled": false,
   "isInternetEnabled": false,
   "language": "python",
   "sourceType": "notebook"
  },
  "kernelspec": {
   "display_name": "Python 3",
   "language": "python",
   "name": "python3"
  },
  "language_info": {
   "codemirror_mode": {
    "name": "ipython",
    "version": 3
   },
   "file_extension": ".py",
   "mimetype": "text/x-python",
   "name": "python",
   "nbconvert_exporter": "python",
   "pygments_lexer": "ipython3",
   "version": "3.10.13"
  },
  "papermill": {
   "default_parameters": {},
   "duration": 25.278871,
   "end_time": "2024-05-26T14:27:55.605601",
   "environment_variables": {},
   "exception": null,
   "input_path": "__notebook__.ipynb",
   "output_path": "__notebook__.ipynb",
   "parameters": {},
   "start_time": "2024-05-26T14:27:30.326730",
   "version": "2.5.0"
  }
 },
 "nbformat": 4,
 "nbformat_minor": 5
}
