{
 "cells": [
  {
   "cell_type": "markdown",
   "id": "599f998d",
   "metadata": {
    "papermill": {
     "duration": 0.006071,
     "end_time": "2024-06-03T13:35:10.424253",
     "exception": false,
     "start_time": "2024-06-03T13:35:10.418182",
     "status": "completed"
    },
    "tags": []
   },
   "source": [
    "**This notebook is an exercise in the [Computer Vision](https://www.kaggle.com/learn/computer-vision) course.  You can reference the tutorial at [this link](https://www.kaggle.com/ryanholbrook/the-convolutional-classifier).**\n",
    "\n",
    "---\n"
   ]
  },
  {
   "cell_type": "markdown",
   "id": "1dc30f81",
   "metadata": {
    "papermill": {
     "duration": 0.005165,
     "end_time": "2024-06-03T13:35:10.435010",
     "exception": false,
     "start_time": "2024-06-03T13:35:10.429845",
     "status": "completed"
    },
    "tags": []
   },
   "source": [
    "<blockquote style=\"margin-right:auto; margin-left:auto; background-color: #ebf9ff; padding: 1em; margin:24px;\">\n",
    "    <strong>Accelerate Training with a Kaggle GPU!</strong><br>\n",
    "Did you know Kaggle offers free time with a GPU accelerator? You can speed up training neural networks in this course by switching to <strong>GPU</strong> in the <em>Accelerator</em> option on the right. (It may already be turned on.) Two things to be aware of:\n",
    "<ul>\n",
    "<li>Changing the <em>Accelerator</em> option will cause the notebook session to restart. You'll need to rerun any setup code.\n",
    "<li>You can have only one GPU session at a time, so be sure to shut the notebook down after you've finished the exercise.\n",
    "</ul>\n",
    "</blockquote>"
   ]
  },
  {
   "cell_type": "markdown",
   "id": "e553f9b8",
   "metadata": {
    "papermill": {
     "duration": 0.005098,
     "end_time": "2024-06-03T13:35:10.445461",
     "exception": false,
     "start_time": "2024-06-03T13:35:10.440363",
     "status": "completed"
    },
    "tags": []
   },
   "source": [
    "# Introduction #\n",
    "\n",
    "In the tutorial, we saw how to build an image classifier by attaching a head of dense layers to a pretrained base. The base we used was from a model called **VGG16**. We saw that the VGG16 architecture was prone to overfitting this dataset. Over this course, you'll learn a number of ways you can improve upon this initial attempt.\n",
    "\n",
    "The first way you'll see is to use a base more appropriate to the dataset. The base this model comes from is called **InceptionV1** (also known as GoogLeNet). InceptionV1 was one of the early winners of the ImageNet competition. One of its successors, InceptionV4, is among the state of the art today.\n",
    "\n",
    "To get started, run the code cell below to set everything up."
   ]
  },
  {
   "cell_type": "code",
   "execution_count": 1,
   "id": "7e0a3a09",
   "metadata": {
    "execution": {
     "iopub.execute_input": "2024-06-03T13:35:10.458053Z",
     "iopub.status.busy": "2024-06-03T13:35:10.457331Z",
     "iopub.status.idle": "2024-06-03T13:35:36.786777Z",
     "shell.execute_reply": "2024-06-03T13:35:36.785946Z"
    },
    "lines_to_next_cell": 2,
    "papermill": {
     "duration": 26.338356,
     "end_time": "2024-06-03T13:35:36.789034",
     "exception": false,
     "start_time": "2024-06-03T13:35:10.450678",
     "status": "completed"
    },
    "tags": []
   },
   "outputs": [
    {
     "name": "stderr",
     "output_type": "stream",
     "text": [
      "2024-06-03 13:35:12.905357: E external/local_xla/xla/stream_executor/cuda/cuda_dnn.cc:9261] Unable to register cuDNN factory: Attempting to register factory for plugin cuDNN when one has already been registered\n",
      "2024-06-03 13:35:12.905465: E external/local_xla/xla/stream_executor/cuda/cuda_fft.cc:607] Unable to register cuFFT factory: Attempting to register factory for plugin cuFFT when one has already been registered\n",
      "2024-06-03 13:35:13.038062: E external/local_xla/xla/stream_executor/cuda/cuda_blas.cc:1515] Unable to register cuBLAS factory: Attempting to register factory for plugin cuBLAS when one has already been registered\n"
     ]
    },
    {
     "name": "stdout",
     "output_type": "stream",
     "text": [
      "Found 5117 files belonging to 2 classes.\n",
      "Found 5051 files belonging to 2 classes.\n"
     ]
    }
   ],
   "source": [
    "# Setup feedback system\n",
    "from learntools.core import binder\n",
    "binder.bind(globals())\n",
    "from learntools.computer_vision.ex1 import *\n",
    "\n",
    "# Imports\n",
    "import os, warnings\n",
    "import matplotlib.pyplot as plt\n",
    "from matplotlib import gridspec\n",
    "\n",
    "import numpy as np\n",
    "import tensorflow as tf\n",
    "from tensorflow.keras.preprocessing import image_dataset_from_directory\n",
    "\n",
    "# Reproducability\n",
    "def set_seed(seed=31415):\n",
    "    np.random.seed(seed)\n",
    "    tf.random.set_seed(seed)\n",
    "    os.environ['PYTHONHASHSEED'] = str(seed)\n",
    "    os.environ['TF_DETERMINISTIC_OPS'] = '1'\n",
    "set_seed()\n",
    "\n",
    "# Set Matplotlib defaults\n",
    "plt.rc('figure', autolayout=True)\n",
    "plt.rc('axes', labelweight='bold', labelsize='large',\n",
    "       titleweight='bold', titlesize=18, titlepad=10)\n",
    "plt.rc('image', cmap='magma')\n",
    "warnings.filterwarnings(\"ignore\") # to clean up output cells\n",
    "\n",
    "\n",
    "# Load training and validation sets\n",
    "ds_train_ = image_dataset_from_directory(\n",
    "    '../input/car-or-truck/train',\n",
    "    labels='inferred',\n",
    "    label_mode='binary',\n",
    "    image_size=[128, 128],\n",
    "    interpolation='nearest',\n",
    "    batch_size=64,\n",
    "    shuffle=True,\n",
    ")\n",
    "ds_valid_ = image_dataset_from_directory(\n",
    "    '../input/car-or-truck/valid',\n",
    "    labels='inferred',\n",
    "    label_mode='binary',\n",
    "    image_size=[128, 128],\n",
    "    interpolation='nearest',\n",
    "    batch_size=64,\n",
    "    shuffle=False,\n",
    ")\n",
    "\n",
    "# Data Pipeline\n",
    "def convert_to_float(image, label):\n",
    "    image = tf.image.convert_image_dtype(image, dtype=tf.float32)\n",
    "    return image, label\n",
    "\n",
    "AUTOTUNE = tf.data.experimental.AUTOTUNE\n",
    "ds_train = (\n",
    "    ds_train_\n",
    "    .map(convert_to_float)\n",
    "    .cache()\n",
    "    .prefetch(buffer_size=AUTOTUNE)\n",
    ")\n",
    "ds_valid = (\n",
    "    ds_valid_\n",
    "    .map(convert_to_float)\n",
    "    .cache()\n",
    "    .prefetch(buffer_size=AUTOTUNE)\n",
    ")\n"
   ]
  },
  {
   "cell_type": "markdown",
   "id": "78a4b3a5",
   "metadata": {
    "papermill": {
     "duration": 0.005476,
     "end_time": "2024-06-03T13:35:36.800592",
     "exception": false,
     "start_time": "2024-06-03T13:35:36.795116",
     "status": "completed"
    },
    "tags": []
   },
   "source": [
    "The **InceptionV1** model pretrained on ImageNet is available in the [TensorFlow Hub](https://www.tensorflow.org/hub/) repository, but we'll load it from a local copy. Run this cell to load InceptionV1 for your base."
   ]
  },
  {
   "cell_type": "code",
   "execution_count": 2,
   "id": "89d4eee4",
   "metadata": {
    "execution": {
     "iopub.execute_input": "2024-06-03T13:35:36.813164Z",
     "iopub.status.busy": "2024-06-03T13:35:36.812877Z",
     "iopub.status.idle": "2024-06-03T13:35:40.706516Z",
     "shell.execute_reply": "2024-06-03T13:35:40.705720Z"
    },
    "lines_to_next_cell": 0,
    "papermill": {
     "duration": 3.90253,
     "end_time": "2024-06-03T13:35:40.708754",
     "exception": false,
     "start_time": "2024-06-03T13:35:36.806224",
     "status": "completed"
    },
    "tags": []
   },
   "outputs": [],
   "source": [
    "import tensorflow_hub as hub\n",
    "\n",
    "pretrained_base = tf.keras.models.load_model(\n",
    "    '../input/cv-course-models/cv-course-models/inceptionv1'\n",
    ")"
   ]
  },
  {
   "cell_type": "markdown",
   "id": "715b57f0",
   "metadata": {
    "papermill": {
     "duration": 0.006368,
     "end_time": "2024-06-03T13:35:40.722941",
     "exception": false,
     "start_time": "2024-06-03T13:35:40.716573",
     "status": "completed"
    },
    "tags": []
   },
   "source": [
    "# 1) Define Pretrained Base #\n",
    "\n",
    "Now that you have a pretrained base to do our feature extraction, decide whether this base should be trainable or not."
   ]
  },
  {
   "cell_type": "code",
   "execution_count": 3,
   "id": "1cda0500",
   "metadata": {
    "execution": {
     "iopub.execute_input": "2024-06-03T13:35:40.735995Z",
     "iopub.status.busy": "2024-06-03T13:35:40.735658Z",
     "iopub.status.idle": "2024-06-03T13:35:40.745643Z",
     "shell.execute_reply": "2024-06-03T13:35:40.744738Z"
    },
    "lines_to_next_cell": 0,
    "papermill": {
     "duration": 0.018616,
     "end_time": "2024-06-03T13:35:40.747498",
     "exception": false,
     "start_time": "2024-06-03T13:35:40.728882",
     "status": "completed"
    },
    "tags": []
   },
   "outputs": [
    {
     "data": {
      "application/javascript": [
       "parent.postMessage({\"jupyterEvent\": \"custom.exercise_interaction\", \"data\": {\"outcomeType\": 1, \"valueTowardsCompletion\": 0.25, \"interactionType\": 1, \"questionType\": 2, \"questionId\": \"1_Q1\", \"learnToolsVersion\": \"0.3.4\", \"failureMessage\": \"\", \"exceptionClass\": \"\", \"trace\": \"\"}}, \"*\")"
      ],
      "text/plain": [
       "<IPython.core.display.Javascript object>"
      ]
     },
     "metadata": {},
     "output_type": "display_data"
    },
    {
     "data": {
      "text/markdown": [
       "<span style=\"color:#33cc33\">Correct:</span> When doing transfer learning, it's generally not a good idea to retrain the entire base -- at least not without some care. The reason is that the random weights in the head will initially create large gradient updates, which propogate back into the base layers and destroy much of the pretraining. Using techniques known as **fine tuning** it's possible to further train the base on new data, but this requires some care to do well."
      ],
      "text/plain": [
       "Correct: When doing transfer learning, it's generally not a good idea to retrain the entire base -- at least not without some care. The reason is that the random weights in the head will initially create large gradient updates, which propogate back into the base layers and destroy much of the pretraining. Using techniques known as **fine tuning** it's possible to further train the base on new data, but this requires some care to do well."
      ]
     },
     "metadata": {},
     "output_type": "display_data"
    }
   ],
   "source": [
    "# YOUR_CODE_HERE\n",
    "pretrained_base.trainable = False\n",
    "\n",
    "# Check your answer\n",
    "q_1.check()"
   ]
  },
  {
   "cell_type": "markdown",
   "id": "c7c7bac9",
   "metadata": {
    "papermill": {
     "duration": 0.006167,
     "end_time": "2024-06-03T13:35:40.759911",
     "exception": false,
     "start_time": "2024-06-03T13:35:40.753744",
     "status": "completed"
    },
    "tags": []
   },
   "source": [
    "In transfer learning, a common practice is to use a pre-trained model (referred to as pretrained_base in your case) as the base of your new model. The pre-trained model has already learned features from a large dataset (e.g., ImageNet) and these features can be useful for your specific task. Here's why you often keep pretrained_base.trainable set to False:\n",
    "\n",
    "**Reasons for Setting pretrained_base.trainable = False**\n",
    "1. Prevent Overfitting\n",
    "\n",
    "    By keeping the base model's weights frozen (i.e., not trainable), you reduce the risk of overfitting. This is     especially important if your dataset is small. Fine-tuning a large number of parameters with a small amount of data can lead to overfitting.\n",
    "\n",
    "2. Leverage Pre-trained Features\n",
    "\n",
    "    The base model has already learned a rich set of features that are generally useful for many tasks (e.g., edge detection, texture patterns). By freezing these weights, you leverage these features and allow the new, trainable layers to focus on learning task-specific features.\n",
    "\n",
    "3. Reduce Computational Load\n",
    "\n",
    "    Training a deep neural network from scratch is computationally expensive. Freezing the base layers reduces the number of parameters that need to be updated during training, making the training process faster and requiring less computational resources.\n",
    "\n",
    "4. Stability in Early Training\n",
    "\n",
    "    Keeping the base layers non-trainable helps in stabilizing the training process. The initial phase of training focuses on the new layers, allowing them to adapt to the high-level features extracted by the base model without perturbing these features.\n",
    "\n",
    "**When to Set pretrained_base.trainable = True**\n",
    "\n",
    "While keeping pretrained_base.trainable = False is a common approach, there are scenarios where you might want to set it to True:\n",
    "\n",
    "1. Fine-tuning on a Large Dataset\n",
    "\n",
    "    If you have a large enough dataset, you can unfreeze some or all of the layers in the pre-trained base and fine-tune them alongside the new layers. This can help the model better adapt the pre-trained features to your specific task.\n",
    "\n",
    "2. Domain-specific Features\n",
    "\n",
    "    If your dataset is very different from the dataset the base model was originally trained on, it might be beneficial to unfreeze the base layers. This allows the model to adjust the learned features to better suit the new data distribution. \n",
    "\n",
    "3. Performance Improvements\n",
    "\n",
    "    In some cases, you might find that your model’s performance improves by fine-tuning the pre-trained layers. This is often done in stages: initially, only the new layers are trained, and once they converge, the pre-trained layers are gradually unfrozen and fine-tuned."
   ]
  },
  {
   "cell_type": "markdown",
   "id": "210d65c6",
   "metadata": {
    "papermill": {
     "duration": 0.006061,
     "end_time": "2024-06-03T13:35:40.772175",
     "exception": false,
     "start_time": "2024-06-03T13:35:40.766114",
     "status": "completed"
    },
    "tags": []
   },
   "source": [
    "# 2) Attach Head #\n",
    "\n",
    "Now that the base is defined to do the feature extraction, create a head of `Dense` layers to perform the classification, following this diagram:\n",
    "\n",
    "<figure>\n",
    "<img src=\"https://storage.googleapis.com/kaggle-media/learn/images/i5VU7Ry.png\" alt=\"Diagram of the dense head.\">\n",
    "</figure>\n"
   ]
  },
  {
   "cell_type": "code",
   "execution_count": 4,
   "id": "fb80a137",
   "metadata": {
    "execution": {
     "iopub.execute_input": "2024-06-03T13:35:40.787243Z",
     "iopub.status.busy": "2024-06-03T13:35:40.786869Z",
     "iopub.status.idle": "2024-06-03T13:35:40.807547Z",
     "shell.execute_reply": "2024-06-03T13:35:40.806656Z"
    },
    "lines_to_next_cell": 0,
    "papermill": {
     "duration": 0.030828,
     "end_time": "2024-06-03T13:35:40.809492",
     "exception": false,
     "start_time": "2024-06-03T13:35:40.778664",
     "status": "completed"
    },
    "tags": []
   },
   "outputs": [
    {
     "data": {
      "application/javascript": [
       "parent.postMessage({\"jupyterEvent\": \"custom.exercise_interaction\", \"data\": {\"outcomeType\": 1, \"valueTowardsCompletion\": 0.25, \"interactionType\": 1, \"questionType\": 2, \"questionId\": \"2_Q2\", \"learnToolsVersion\": \"0.3.4\", \"failureMessage\": \"\", \"exceptionClass\": \"\", \"trace\": \"\"}}, \"*\")"
      ],
      "text/plain": [
       "<IPython.core.display.Javascript object>"
      ]
     },
     "metadata": {},
     "output_type": "display_data"
    },
    {
     "data": {
      "text/markdown": [
       "<span style=\"color:#33cc33\">Correct</span>"
      ],
      "text/plain": [
       "Correct"
      ]
     },
     "metadata": {},
     "output_type": "display_data"
    }
   ],
   "source": [
    "from tensorflow import keras\n",
    "from tensorflow.keras import layers\n",
    "\n",
    "model = keras.Sequential([\n",
    "    pretrained_base,\n",
    "    layers.Flatten(),\n",
    "    layers.Dense(units=6,activation='relu'),\n",
    "    layers.Dense(units=1,activation='sigmoid'),\n",
    "    \n",
    "])\n",
    "\n",
    "# Check your answer\n",
    "q_2.check()"
   ]
  },
  {
   "cell_type": "markdown",
   "id": "8392c5e5",
   "metadata": {
    "papermill": {
     "duration": 0.005993,
     "end_time": "2024-06-03T13:35:40.821675",
     "exception": false,
     "start_time": "2024-06-03T13:35:40.815682",
     "status": "completed"
    },
    "tags": []
   },
   "source": [
    "# 3) Train #\n",
    "\n",
    "Before training a model in Keras, you need to specify an *optimizer* to perform the gradient descent, a *loss function* to be minimized, and (optionally) any *performance metrics*. The optimization algorithm we'll use for this course is called [\"Adam\"](https://keras.io/api/optimizers/adam/), which generally performs well regardless of what kind of problem you're trying to solve.\n",
    "\n",
    "The loss and the metrics, however, need to match the kind of problem you're trying to solve. Our problem is a **binary classification** problem: `Car` coded as 0, and `Truck` coded as 1. Choose an appropriate loss and an appropriate accuracy metric for binary classification."
   ]
  },
  {
   "cell_type": "code",
   "execution_count": 5,
   "id": "fd614674",
   "metadata": {
    "execution": {
     "iopub.execute_input": "2024-06-03T13:35:40.834970Z",
     "iopub.status.busy": "2024-06-03T13:35:40.834692Z",
     "iopub.status.idle": "2024-06-03T13:35:40.862475Z",
     "shell.execute_reply": "2024-06-03T13:35:40.861612Z"
    },
    "lines_to_next_cell": 0,
    "papermill": {
     "duration": 0.036698,
     "end_time": "2024-06-03T13:35:40.864453",
     "exception": false,
     "start_time": "2024-06-03T13:35:40.827755",
     "status": "completed"
    },
    "tags": []
   },
   "outputs": [
    {
     "data": {
      "application/javascript": [
       "parent.postMessage({\"jupyterEvent\": \"custom.exercise_interaction\", \"data\": {\"outcomeType\": 1, \"valueTowardsCompletion\": 0.25, \"interactionType\": 1, \"questionType\": 2, \"questionId\": \"3_Q3\", \"learnToolsVersion\": \"0.3.4\", \"failureMessage\": \"\", \"exceptionClass\": \"\", \"trace\": \"\"}}, \"*\")"
      ],
      "text/plain": [
       "<IPython.core.display.Javascript object>"
      ]
     },
     "metadata": {},
     "output_type": "display_data"
    },
    {
     "data": {
      "text/markdown": [
       "<span style=\"color:#33cc33\">Correct</span>"
      ],
      "text/plain": [
       "Correct"
      ]
     },
     "metadata": {},
     "output_type": "display_data"
    }
   ],
   "source": [
    "# what loss function should you use for a binary\n",
    "# classification problem? (Your answer for each should be a string.)\n",
    "optimizer = tf.keras.optimizers.Adam(epsilon=0.01)\n",
    "model.compile(\n",
    "    optimizer=optimizer,\n",
    "    loss = 'binary_crossentropy',\n",
    "    metrics=['binary_accuracy'],\n",
    ")\n",
    "\n",
    "# Check your answer\n",
    "q_3.check()"
   ]
  },
  {
   "cell_type": "code",
   "execution_count": 6,
   "id": "19d4aa2f",
   "metadata": {
    "execution": {
     "iopub.execute_input": "2024-06-03T13:35:40.878557Z",
     "iopub.status.busy": "2024-06-03T13:35:40.878277Z",
     "iopub.status.idle": "2024-06-03T13:37:42.163606Z",
     "shell.execute_reply": "2024-06-03T13:37:42.162465Z"
    },
    "papermill": {
     "duration": 121.38132,
     "end_time": "2024-06-03T13:37:42.252298",
     "exception": false,
     "start_time": "2024-06-03T13:35:40.870978",
     "status": "completed"
    },
    "tags": []
   },
   "outputs": [
    {
     "name": "stdout",
     "output_type": "stream",
     "text": [
      "Epoch 1/30\n"
     ]
    },
    {
     "name": "stderr",
     "output_type": "stream",
     "text": [
      "WARNING: All log messages before absl::InitializeLog() is called are written to STDERR\n",
      "I0000 00:00:1717421749.170078      73 device_compiler.h:186] Compiled cluster using XLA!  This line is logged at most once for the lifetime of the process.\n"
     ]
    },
    {
     "name": "stdout",
     "output_type": "stream",
     "text": [
      "80/80 [==============================] - 22s 176ms/step - loss: 0.6081 - binary_accuracy: 0.6697 - val_loss: 0.4744 - val_binary_accuracy: 0.7836\n",
      "Epoch 2/30\n",
      "80/80 [==============================] - 3s 43ms/step - loss: 0.4397 - binary_accuracy: 0.7968 - val_loss: 0.4144 - val_binary_accuracy: 0.8185\n",
      "Epoch 3/30\n",
      "80/80 [==============================] - 3s 42ms/step - loss: 0.4010 - binary_accuracy: 0.8184 - val_loss: 0.3975 - val_binary_accuracy: 0.8280\n",
      "Epoch 4/30\n",
      "80/80 [==============================] - 3s 43ms/step - loss: 0.3801 - binary_accuracy: 0.8294 - val_loss: 0.3896 - val_binary_accuracy: 0.8329\n",
      "Epoch 5/30\n",
      "80/80 [==============================] - 3s 42ms/step - loss: 0.3664 - binary_accuracy: 0.8368 - val_loss: 0.3799 - val_binary_accuracy: 0.8355\n",
      "Epoch 6/30\n",
      "80/80 [==============================] - 3s 43ms/step - loss: 0.3534 - binary_accuracy: 0.8427 - val_loss: 0.3739 - val_binary_accuracy: 0.8384\n",
      "Epoch 7/30\n",
      "80/80 [==============================] - 3s 43ms/step - loss: 0.3441 - binary_accuracy: 0.8503 - val_loss: 0.3705 - val_binary_accuracy: 0.8379\n",
      "Epoch 8/30\n",
      "80/80 [==============================] - 3s 43ms/step - loss: 0.3355 - binary_accuracy: 0.8558 - val_loss: 0.3645 - val_binary_accuracy: 0.8410\n",
      "Epoch 9/30\n",
      "80/80 [==============================] - 3s 43ms/step - loss: 0.3275 - binary_accuracy: 0.8616 - val_loss: 0.3614 - val_binary_accuracy: 0.8422\n",
      "Epoch 10/30\n",
      "80/80 [==============================] - 3s 43ms/step - loss: 0.3201 - binary_accuracy: 0.8650 - val_loss: 0.3576 - val_binary_accuracy: 0.8460\n",
      "Epoch 11/30\n",
      "80/80 [==============================] - 3s 42ms/step - loss: 0.3132 - binary_accuracy: 0.8691 - val_loss: 0.3544 - val_binary_accuracy: 0.8472\n",
      "Epoch 12/30\n",
      "80/80 [==============================] - 3s 43ms/step - loss: 0.3071 - binary_accuracy: 0.8730 - val_loss: 0.3507 - val_binary_accuracy: 0.8497\n",
      "Epoch 13/30\n",
      "80/80 [==============================] - 3s 43ms/step - loss: 0.3014 - binary_accuracy: 0.8751 - val_loss: 0.3494 - val_binary_accuracy: 0.8503\n",
      "Epoch 14/30\n",
      "80/80 [==============================] - 3s 43ms/step - loss: 0.2962 - binary_accuracy: 0.8773 - val_loss: 0.3469 - val_binary_accuracy: 0.8513\n",
      "Epoch 15/30\n",
      "80/80 [==============================] - 3s 43ms/step - loss: 0.2913 - binary_accuracy: 0.8812 - val_loss: 0.3442 - val_binary_accuracy: 0.8509\n",
      "Epoch 16/30\n",
      "80/80 [==============================] - 3s 43ms/step - loss: 0.2869 - binary_accuracy: 0.8829 - val_loss: 0.3421 - val_binary_accuracy: 0.8509\n",
      "Epoch 17/30\n",
      "80/80 [==============================] - 3s 43ms/step - loss: 0.2829 - binary_accuracy: 0.8851 - val_loss: 0.3407 - val_binary_accuracy: 0.8523\n",
      "Epoch 18/30\n",
      "80/80 [==============================] - 3s 43ms/step - loss: 0.2790 - binary_accuracy: 0.8874 - val_loss: 0.3392 - val_binary_accuracy: 0.8543\n",
      "Epoch 19/30\n",
      "80/80 [==============================] - 3s 43ms/step - loss: 0.2755 - binary_accuracy: 0.8902 - val_loss: 0.3374 - val_binary_accuracy: 0.8543\n",
      "Epoch 20/30\n",
      "80/80 [==============================] - 3s 43ms/step - loss: 0.2720 - binary_accuracy: 0.8915 - val_loss: 0.3380 - val_binary_accuracy: 0.8551\n",
      "Epoch 21/30\n",
      "80/80 [==============================] - 3s 43ms/step - loss: 0.2690 - binary_accuracy: 0.8935 - val_loss: 0.3371 - val_binary_accuracy: 0.8553\n",
      "Epoch 22/30\n",
      "80/80 [==============================] - 3s 43ms/step - loss: 0.2659 - binary_accuracy: 0.8935 - val_loss: 0.3364 - val_binary_accuracy: 0.8571\n",
      "Epoch 23/30\n",
      "80/80 [==============================] - 3s 43ms/step - loss: 0.2630 - binary_accuracy: 0.8949 - val_loss: 0.3354 - val_binary_accuracy: 0.8580\n",
      "Epoch 24/30\n",
      "80/80 [==============================] - 3s 43ms/step - loss: 0.2603 - binary_accuracy: 0.8951 - val_loss: 0.3343 - val_binary_accuracy: 0.8606\n",
      "Epoch 25/30\n",
      "80/80 [==============================] - 3s 42ms/step - loss: 0.2575 - binary_accuracy: 0.8951 - val_loss: 0.3346 - val_binary_accuracy: 0.8596\n",
      "Epoch 26/30\n",
      "80/80 [==============================] - 3s 42ms/step - loss: 0.2550 - binary_accuracy: 0.8968 - val_loss: 0.3345 - val_binary_accuracy: 0.8600\n",
      "Epoch 27/30\n",
      "80/80 [==============================] - 3s 42ms/step - loss: 0.2525 - binary_accuracy: 0.8976 - val_loss: 0.3342 - val_binary_accuracy: 0.8602\n",
      "Epoch 28/30\n",
      "80/80 [==============================] - 3s 42ms/step - loss: 0.2502 - binary_accuracy: 0.8984 - val_loss: 0.3346 - val_binary_accuracy: 0.8606\n",
      "Epoch 29/30\n",
      "80/80 [==============================] - 3s 42ms/step - loss: 0.2479 - binary_accuracy: 0.8988 - val_loss: 0.3350 - val_binary_accuracy: 0.8612\n",
      "Epoch 30/30\n",
      "80/80 [==============================] - 3s 42ms/step - loss: 0.2460 - binary_accuracy: 0.9009 - val_loss: 0.3356 - val_binary_accuracy: 0.8610\n"
     ]
    }
   ],
   "source": [
    "history = model.fit(\n",
    "    ds_train,\n",
    "    validation_data=ds_valid,\n",
    "    epochs=30,\n",
    ")"
   ]
  },
  {
   "cell_type": "markdown",
   "id": "68ede4c6",
   "metadata": {
    "papermill": {
     "duration": 0.076572,
     "end_time": "2024-06-03T13:37:42.407861",
     "exception": false,
     "start_time": "2024-06-03T13:37:42.331289",
     "status": "completed"
    },
    "tags": []
   },
   "source": [
    "Run the cell below to plot the loss and metric curves for this training run."
   ]
  },
  {
   "cell_type": "code",
   "execution_count": 7,
   "id": "f256e5d7",
   "metadata": {
    "execution": {
     "iopub.execute_input": "2024-06-03T13:37:42.563504Z",
     "iopub.status.busy": "2024-06-03T13:37:42.563118Z",
     "iopub.status.idle": "2024-06-03T13:37:43.223344Z",
     "shell.execute_reply": "2024-06-03T13:37:43.222405Z"
    },
    "papermill": {
     "duration": 0.741458,
     "end_time": "2024-06-03T13:37:43.225684",
     "exception": false,
     "start_time": "2024-06-03T13:37:42.484226",
     "status": "completed"
    },
    "tags": []
   },
   "outputs": [
    {
     "data": {
      "image/png": "[encoded data removed]",
      "text/plain": [
       "<Figure size 640x480 with 1 Axes>"
      ]
     },
     "metadata": {},
     "output_type": "display_data"
    },
    {
     "data": {
      "image/png": "[encoded data removed]",
      "text/plain": [
       "<Figure size 640x480 with 1 Axes>"
      ]
     },
     "metadata": {},
     "output_type": "display_data"
    }
   ],
   "source": [
    "import pandas as pd\n",
    "history_frame = pd.DataFrame(history.history)\n",
    "history_frame.loc[:, ['loss', 'val_loss']].plot()\n",
    "history_frame.loc[:, ['binary_accuracy', 'val_binary_accuracy']].plot();"
   ]
  },
  {
   "cell_type": "markdown",
   "id": "a7cc31fd",
   "metadata": {
    "papermill": {
     "duration": 0.07829,
     "end_time": "2024-06-03T13:37:43.427556",
     "exception": false,
     "start_time": "2024-06-03T13:37:43.349266",
     "status": "completed"
    },
    "tags": []
   },
   "source": [
    "# 4) Examine Loss and Accuracy #\n",
    "\n",
    "Do you notice a difference between these learning curves and the curves for VGG16 from the tutorial? What does this difference tell you about what this model (InceptionV2) learned compared to VGG16? Are there ways in which one is better than the other? Worse?\n",
    "\n",
    "After you've thought about it, run the cell below to see the answer."
   ]
  },
  {
   "cell_type": "code",
   "execution_count": 8,
   "id": "36e70e27",
   "metadata": {
    "execution": {
     "iopub.execute_input": "2024-06-03T13:37:43.587775Z",
     "iopub.status.busy": "2024-06-03T13:37:43.587406Z",
     "iopub.status.idle": "2024-06-03T13:37:43.595121Z",
     "shell.execute_reply": "2024-06-03T13:37:43.594182Z"
    },
    "papermill": {
     "duration": 0.089601,
     "end_time": "2024-06-03T13:37:43.597063",
     "exception": false,
     "start_time": "2024-06-03T13:37:43.507462",
     "status": "completed"
    },
    "tags": []
   },
   "outputs": [
    {
     "data": {
      "application/javascript": [
       "parent.postMessage({\"jupyterEvent\": \"custom.exercise_interaction\", \"data\": {\"outcomeType\": 1, \"valueTowardsCompletion\": 0.25, \"interactionType\": 1, \"questionType\": 4, \"questionId\": \"4_Q4\", \"learnToolsVersion\": \"0.3.4\", \"failureMessage\": \"\", \"exceptionClass\": \"\", \"trace\": \"\"}}, \"*\")"
      ],
      "text/plain": [
       "<IPython.core.display.Javascript object>"
      ]
     },
     "metadata": {},
     "output_type": "display_data"
    },
    {
     "data": {
      "text/markdown": [
       "<span style=\"color:#33cc33\">Correct:</span> \n",
       "\n",
       "That the training loss and validation loss stay fairly close is evidence that the model isn't just memorizing the training data, but rather learning general properties of the two classes. But, because this model converges at a loss greater than the VGG16 model, it's likely that it is underfitting some, and could benefit from some extra capacity.\n"
      ],
      "text/plain": [
       "Correct: \n",
       "\n",
       "That the training loss and validation loss stay fairly close is evidence that the model isn't just memorizing the training data, but rather learning general properties of the two classes. But, because this model converges at a loss greater than the VGG16 model, it's likely that it is underfitting some, and could benefit from some extra capacity."
      ]
     },
     "metadata": {},
     "output_type": "display_data"
    }
   ],
   "source": [
    "# View the solution (Run this code cell to receive credit!)\n",
    "q_4.check()"
   ]
  },
  {
   "cell_type": "markdown",
   "id": "f68a30a5",
   "metadata": {
    "papermill": {
     "duration": 0.078223,
     "end_time": "2024-06-03T13:37:43.755031",
     "exception": false,
     "start_time": "2024-06-03T13:37:43.676808",
     "status": "completed"
    },
    "tags": []
   },
   "source": [
    "# Conclusion #\n",
    "\n",
    "In this first lesson, you learned the basics of **convolutional image classifiers**, that they consist of a **base** for extracting features from images, and a **head** which uses the features to decide the image's class. You also saw how to build a classifier with **transfer learning** on pretrained base. "
   ]
  },
  {
   "cell_type": "markdown",
   "id": "670b4612",
   "metadata": {
    "papermill": {
     "duration": 0.078808,
     "end_time": "2024-06-03T13:37:43.912279",
     "exception": false,
     "start_time": "2024-06-03T13:37:43.833471",
     "status": "completed"
    },
    "tags": []
   },
   "source": [
    "# Keep Going #\n",
    "\n",
    "Move on to [**Lesson 2**](https://www.kaggle.com/ryanholbrook/convolution-and-relu) for a detailed look at how the base does this feature extraction. (It's really cool!)"
   ]
  },
  {
   "cell_type": "markdown",
   "id": "a1cdff17",
   "metadata": {
    "papermill": {
     "duration": 0.078355,
     "end_time": "2024-06-03T13:37:44.068719",
     "exception": false,
     "start_time": "2024-06-03T13:37:43.990364",
     "status": "completed"
    },
    "tags": []
   },
   "source": [
    "---\n",
    "\n",
    "\n",
    "\n",
    "\n",
    "*Have questions or comments? Visit the [course discussion forum](https://www.kaggle.com/learn/computer-vision/discussion) to chat with other learners.*"
   ]
  }
 ],
 "metadata": {
  "jupytext": {
   "formats": "ipynb,md",
   "split_at_heading": true
  },
  "kaggle": {
   "accelerator": "gpu",
   "dataSources": [
    {
     "datasetId": 708136,
     "sourceId": 1338830,
     "sourceType": "datasetVersion"
    },
    {
     "datasetId": 701538,
     "sourceId": 1363948,
     "sourceType": "datasetVersion"
    },
    {
     "datasetId": 878523,
     "sourceId": 1495782,
     "sourceType": "datasetVersion"
    }
   ],
   "dockerImageVersionId": 30648,
   "isGpuEnabled": true,
   "isInternetEnabled": false,
   "language": "python",
   "sourceType": "notebook"
  },
  "kernelspec": {
   "display_name": "Python 3",
   "language": "python",
   "name": "python3"
  },
  "language_info": {
   "codemirror_mode": {
    "name": "ipython",
    "version": 3
   },
   "file_extension": ".py",
   "mimetype": "text/x-python",
   "name": "python",
   "nbconvert_exporter": "python",
   "pygments_lexer": "ipython3",
   "version": "3.10.13"
  },
  "papermill": {
   "default_parameters": {},
   "duration": 159.230781,
   "end_time": "2024-06-03T13:37:46.913055",
   "environment_variables": {},
   "exception": null,
   "input_path": "__notebook__.ipynb",
   "output_path": "__notebook__.ipynb",
   "parameters": {},
   "start_time": "2024-06-03T13:35:07.682274",
   "version": "2.5.0"
  }
 },
 "nbformat": 4,
 "nbformat_minor": 5
}
