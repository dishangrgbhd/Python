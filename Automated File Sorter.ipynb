{
 "cells": [
  {
   "cell_type": "code",
   "execution_count": 2,
   "id": "919ea891-fbc3-448e-9ba3-2652ada1d0d5",
   "metadata": {},
   "outputs": [],
   "source": [
    "import os,shutil"
   ]
  },
  {
   "cell_type": "code",
   "execution_count": 9,
   "id": "8a7c589f-23de-4429-9470-6885befd605b",
   "metadata": {},
   "outputs": [],
   "source": [
    "path= r\"C:/Users/Ripple/Downloads/Documents/\" "
   ]
  },
  {
   "cell_type": "code",
   "execution_count": 18,
   "id": "66557640-3a73-401c-9cb8-4a78073d4d9b",
   "metadata": {},
   "outputs": [
    {
     "name": "stdout",
     "output_type": "stream",
     "text": [
      "['fake document.txt', 'image files', 'IMG_0349.jpeg', 'text files', 'xlsx files', 'xlsxfake.xlsx']\n"
     ]
    }
   ],
   "source": [
    "file_name=os.listdir(path)\n",
    "print(file_name)"
   ]
  },
  {
   "cell_type": "code",
   "execution_count": 29,
   "id": "fa027868-70cb-4ad6-935c-2f9b2a2bf289",
   "metadata": {},
   "outputs": [],
   "source": [
    "folder_names=['xlsx files','image files','text files']\n",
    "for loop in range(0,3):\n",
    " if not os.path.exists(path+folder_names[loop]):\n",
    "    os.makedirs((path+folder_names[loop]))\n",
    "for file in file_name:\n",
    "    if \".xlsx\" in file and not os.path.exists(path+\"xlsx files/\"+file):\n",
    "        shutil.move(path+file,path+\"xlsx files/\"+file)\n",
    "    elif \".jpeg\" in file and not os.path.exists(path+\"image files/\"+file):\n",
    "        shutil.move(path+file,path+\"image files/\"+file)\n",
    "    elif \".txt\" in file and not os.path.exists(path+\"text files/\"+file):\n",
    "        shutil.move(path+file,path+\"text files/\"+file)\n",
    "    \n",
    "            "
   ]
  },
  {
   "cell_type": "code",
   "execution_count": null,
   "id": "c1bc7055-0524-4e3f-9154-25e5e86795ce",
   "metadata": {},
   "outputs": [],
   "source": []
  }
 ],
 "metadata": {
  "kernelspec": {
   "display_name": "Python 3 (ipykernel)",
   "language": "python",
   "name": "python3"
  },
  "language_info": {
   "codemirror_mode": {
    "name": "ipython",
    "version": 3
   },
   "file_extension": ".py",
   "mimetype": "text/x-python",
   "name": "python",
   "nbconvert_exporter": "python",
   "pygments_lexer": "ipython3",
   "version": "3.11.7"
  }
 },
 "nbformat": 4,
 "nbformat_minor": 5
}
