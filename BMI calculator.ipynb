{
 "cells": [
  {
   "cell_type": "code",
   "execution_count": 42,
   "id": "29b58103-404e-4504-8c9c-a71b888a6c20",
   "metadata": {},
   "outputs": [
    {
     "name": "stdin",
     "output_type": "stream",
     "text": [
      "Enter your name: Dishan\n",
      "Enter your weight in pounds: 127.8\n",
      "Enter your height in inches: 63\n"
     ]
    },
    {
     "name": "stdout",
     "output_type": "stream",
     "text": [
      "22.636281179138322\n",
      "Dishan, you are normal weight. There is minimal health risk. Keep this up!\n"
     ]
    }
   ],
   "source": [
    "name=input(\"Enter your name:\")\n",
    "weight = float(input(\"Enter your weight in pounds:\"))\n",
    "height=float(input(\"Enter your height in inches:\"))\n",
    "BMI = (weight * 703) / (height * height)\n",
    "print(BMI)\n",
    "if BMI>0:\n",
    "    if(BMI<18.5):\n",
    "        print(name+\", you are underweight. There is minimal health risk. You need to eat more.\")\n",
    "    elif(BMI<=24.9):\n",
    "        print(name+\", you are normal weight. There is minimal health risk. Keep this up!\")\n",
    "    elif(BMI<=29.9):\n",
    "        print(name+\", you are over weight. There is increased health risk. You need to exercise more.\")\n",
    "    elif(BMI<=34.9):\n",
    "        print(name+\", you are highly obese. There is high health risk. You need to exercise and eat less.\")\n",
    "    elif(BMI<=39.9):\n",
    "        print(name+\", you are severely obese. There is very high health risk. Start exercising immediately!\") \n",
    "    else:\n",
    "        print(name+\", you are morbidly obese. There is extremely high health risk. Consult a doctor immediately!\")\n",
    "else:\n",
    "    print(\"Enter valid inputs.\")"
   ]
  },
  {
   "cell_type": "code",
   "execution_count": null,
   "id": "aae7154d-2f41-4fdb-8df9-5c629a71d1cc",
   "metadata": {},
   "outputs": [],
   "source": []
  },
  {
   "cell_type": "code",
   "execution_count": null,
   "id": "d060f956-18a8-4dde-afd0-47710e2888db",
   "metadata": {},
   "outputs": [],
   "source": [
    "Under 18.5\tUnderweight\tMinimal\n",
    "18.5 - 24.9\tNormal Weight\tMinimal\n",
    "25 - 29.9\tOverweight\tIncreased\n",
    "30 - 34.9\tObese\tHigh\n",
    "35 - 39.9\tSeverely Obese\tVery High\n",
    "40 and over\tMorbidly Obese\tExtremely Highb"
   ]
  },
  {
   "cell_type": "code",
   "execution_count": 35,
   "id": "64456d2b-e6bf-4e3d-8930-c0715a3e3eda",
   "metadata": {},
   "outputs": [
    {
     "name": "stdout",
     "output_type": "stream",
     "text": [
      "You are over weight.\n"
     ]
    }
   ],
   "source": [
    "if BMI>0:\n",
    "    if(BMI<18.5):\n",
    "        print(name+\", you are underweight.\")\n",
    "    elif(BMI<=24.9):\n",
    "        print(name+\", you are normal weight.\")\n",
    "    elif(BMI<=29.9):\n",
    "        print(name+\", you are over weight.\")\n",
    "    elif(BMI<=34.9):\n",
    "        print(name+\", you are highly obese.\")\n",
    "    elif(BMI<=39.9):\n",
    "        print(name+\", you are severely obese.\") \n",
    "    else:\n",
    "        print(name+\", you are morbidly obese.\")\n",
    "else:\n",
    "    print(\"Enter valid inputs.\")"
   ]
  },
  {
   "cell_type": "code",
   "execution_count": null,
   "id": "4a917e46-88c6-4049-9fcd-63ef5f6459ab",
   "metadata": {},
   "outputs": [],
   "source": []
  }
 ],
 "metadata": {
  "kernelspec": {
   "display_name": "Python 3 (ipykernel)",
   "language": "python",
   "name": "python3"
  },
  "language_info": {
   "codemirror_mode": {
    "name": "ipython",
    "version": 3
   },
   "file_extension": ".py",
   "mimetype": "text/x-python",
   "name": "python",
   "nbconvert_exporter": "python",
   "pygments_lexer": "ipython3",
   "version": "3.11.7"
  }
 },
 "nbformat": 4,
 "nbformat_minor": 5
}
